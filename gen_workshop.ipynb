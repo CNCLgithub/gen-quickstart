{
 "cells": [
  {
   "cell_type": "markdown",
   "metadata": {},
   "source": [
    "# CCDL Workshop (December 11, 2019)\n",
    "\n",
    "Modules adapted from Gen Quick Start Tutorials (https://github.com/probcomp/gen-quickstart)\n",
    "\n",
    "## Modules\n",
    "\n",
    "1. [Generative Models in Gen](workshop/module_1.ipynb)\n",
    "\n",
    "2. [Smarter Inference Procedures](workshop/module_2.ipynb)\n",
    "\n",
    "3. [Inverse Planning](workshop/module_3.ipynb)\n",
    "\n",
    "\n",
    "## Reference\n",
    "\n",
    "- [Gen documentation](https://probcomp.github.io/Gen/dev/)\n",
    "\n",
    "- [GenTF documentation](https://probcomp.github.io/GenTF/dev/)\n",
    "\n",
    "- [GenViz documentation](https://probcomp.github.io/GenTF/dev/)"
   ]
  }
 ],
 "metadata": {
  "kernelspec": {
   "display_name": "Julia 1.0.3",
   "language": "julia",
   "name": "julia-1.0"
  },
  "language_info": {
   "file_extension": ".jl",
   "mimetype": "application/julia",
   "name": "julia",
   "version": "1.0.3"
  }
 },
 "nbformat": 4,
 "nbformat_minor": 2
}
