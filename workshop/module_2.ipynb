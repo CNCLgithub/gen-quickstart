{
 "cells": [
  {
   "cell_type": "markdown",
   "metadata": {},
   "source": [
    "# Basics of Iterative Inference Programming in Gen"
   ]
  },
  {
   "cell_type": "markdown",
   "metadata": {},
   "source": [
    "This tutorial introduces the basics of inference programming in Gen using **iterative inference programs**, which include **Markov chain Monte Carlo (MCMC) algorithms**."
   ]
  },
  {
   "cell_type": "markdown",
   "metadata": {},
   "source": [
    "## The task: curve-fitting with outliers"
   ]
  },
  {
   "cell_type": "markdown",
   "metadata": {},
   "source": [
    "Suppose we have a dataset of points in the $x,y$ plane that is _mostly_ explained by a linear relationship, but which also has several outliers. \\\n",
    "We will \n",
    "1. automatically identify the outliers and \n",
    "2. find a linear relationship (a slope & intercept, as well as an inherent noise level) that explains the rest of the points:\n",
    "\n",
    "<img src=\"../tutorials/images/example-inference.png\" alt=\"See https://dspace.mit.edu/bitstream/handle/1721.1/119255/MIT-CSAIL-TR-2018-020.pdf, Figure 2(a))\" width=\"600\"/>"
   ]
  },
  {
   "cell_type": "markdown",
   "metadata": {},
   "source": [
    "## Outline"
   ]
  },
  {
   "cell_type": "markdown",
   "metadata": {},
   "source": [
    "**Section 1.** [Writing the model](#writing-model)\n",
    "\n",
    "**Section 2.** [Visualizing the model's behavior](#visualizing)\n",
    "\n",
    "**Section 3.** [ The problem with generic importance sampling ](#importance)\n",
    "\n",
    "**Section 4.1** [MCMC Inference: Introduction](#mcmc-1)\n",
    "\n",
    "**Section 4.2** [MCMC Inference: Block Resimulation](#mcmc-2)\n",
    "\n",
    "**Section 4.3** [MCMC Inference: Gaussian Drift](#mcmc-3)\n",
    "\n",
    "**Section 4.3** [MCMC Inference: Data-driven proposals based on heuristics](#mcmc-4)"
   ]
  },
  {
   "cell_type": "code",
   "execution_count": 1,
   "metadata": {},
   "outputs": [],
   "source": [
    "using Gen\n",
    "import Random"
   ]
  },
  {
   "cell_type": "markdown",
   "metadata": {},
   "source": [
    "## 1. Writing the model <a name=\"writing-model\"></a>"
   ]
  },
  {
   "cell_type": "markdown",
   "metadata": {},
   "source": [
    "We begin, as usual, by writing a model: a Julia function responsible (conceptually) for simulating a fake dataset."
   ]
  },
  {
   "cell_type": "code",
   "execution_count": 2,
   "metadata": {},
   "outputs": [],
   "source": [
    "@gen function model(xs::Vector{Float64})\n",
    "    slope = @trace(normal(0, 2), :slope)\n",
    "    intercept = @trace(normal(0, 2), :intercept)\n",
    "    noise = @trace(gamma(1, 1), :noise)\n",
    "    \n",
    "    # THIS PART IS NEW: it allows a more robust inference scheme by modeling outliers.\n",
    "    # prob_outlier is the proportion of the dataset that don't fit a linear relationship (outliers) \n",
    "    prob_outlier = @trace(uniform(0, 1), :prob_outlier)\n",
    "    \n",
    "    # Next, we generate the actual y coordinates.\n",
    "    n = length(xs)\n",
    "    ys = Vector{Float64}(undef, n)\n",
    "    \n",
    "    for i = 1:n\n",
    "        # Decide whether this point is an outlier, and set\n",
    "        # mean and standard deviation accordingly\n",
    "        if @trace(bernoulli(prob_outlier), :data => i => :is_outlier)\n",
    "            (mu, std) = (0., 10.)\n",
    "        else\n",
    "            (mu, std) = (xs[i] * slope + intercept, noise)\n",
    "        end\n",
    "        # Sample a y value for this point\n",
    "        ys[i] = @trace(normal(mu, std), :data => i => :y)\n",
    "    end\n",
    "    ys\n",
    "end;"
   ]
  },
  {
   "cell_type": "markdown",
   "metadata": {},
   "source": [
    "This model does what we want: it samples several parameters of the data-generating process, then generates data accordingly."
   ]
  },
  {
   "cell_type": "markdown",
   "metadata": {},
   "source": [
    "Let's look at the causal diagram:\n",
    "\n",
    "<img src=\"./images/line_3.png\" alt=\"Causal diagram: Line with outliers\" width=\"600\"/>"
   ]
  },
  {
   "cell_type": "markdown",
   "metadata": {},
   "source": [
    "## 2. What our model is doing: visualizing the prior "
   ]
  },
  {
   "cell_type": "markdown",
   "metadata": {},
   "source": [
    "Let's visualize what our model is doing by drawing some samples from the prior. \\\n",
    "We use the GenViz library here which we will not focus on in this workshop."
   ]
  },
  {
   "cell_type": "code",
   "execution_count": 3,
   "metadata": {},
   "outputs": [],
   "source": [
    "using GenViz\n",
    "\n",
    "function serialize_trace(trace)\n",
    "    assmt = Gen.get_choices(trace)\n",
    "    (xs,) = Gen.get_args(trace)\n",
    "    Dict(\"slope\" => assmt[:slope],\n",
    "        \"intercept\" => assmt[:intercept],\n",
    "        \"inlier_std\" => assmt[:noise],\n",
    "        \"y-coords\" => [assmt[:data => i => :y] for i in 1:length(xs)],\n",
    "        \"outliers\" => [assmt[:data => i => :is_outlier] for i in 1:length(xs)])\n",
    "end;\n",
    "\n",
    "server = VizServer(8091);"
   ]
  },
  {
   "cell_type": "markdown",
   "metadata": {},
   "source": [
    "Finally, we generate some data and draw it:"
   ]
  },
  {
   "cell_type": "code",
   "execution_count": 4,
   "metadata": {
    "scrolled": false
   },
   "outputs": [
    {
     "data": {
      "text/html": [
       "<div data-v-2e966a4f=\"\"><h1 data-v-2e966a4f=\"\">Traces</h1><div data-v-2e966a4f=\"\" id=\"traces\"><div data-v-2e966a4f=\"\"><svg data-v-2e966a4f=\"\" height=\"185\" width=\"185\" xmlns=\"http://www.w3.org/2000/svg\" xmlns:xlink=\"http://www.w3.org/1999/xlink\" version=\"1.1\"><circle cx=\"18.5\" cy=\"41.960448229628724\" r=\"3\" fill=\"blue\"></circle><circle cx=\"26.289473684210524\" cy=\"49.3701013018689\" r=\"3\" fill=\"blue\"></circle><circle cx=\"34.078947368421055\" cy=\"166.5\" r=\"3\" fill=\"red\"></circle><circle cx=\"41.868421052631575\" cy=\"68.71270059696779\" r=\"3\" fill=\"blue\"></circle><circle cx=\"49.6578947368421\" cy=\"57.577343071477785\" r=\"3\" fill=\"blue\"></circle><circle cx=\"57.44736842105264\" cy=\"40.120762969897726\" r=\"3\" fill=\"blue\"></circle><circle cx=\"65.23684210526315\" cy=\"70.55827873800632\" r=\"3\" fill=\"blue\"></circle><circle cx=\"73.02631578947367\" cy=\"118.26186438208356\" r=\"3\" fill=\"red\"></circle><circle cx=\"80.8157894736842\" cy=\"93.22606916324018\" r=\"3\" fill=\"red\"></circle><circle cx=\"88.60526315789474\" cy=\"18.5\" r=\"3\" fill=\"red\"></circle><circle cx=\"96.39473684210527\" cy=\"69.23181162252403\" r=\"3\" fill=\"blue\"></circle><circle cx=\"104.1842105263158\" cy=\"65.84787150296258\" r=\"3\" fill=\"blue\"></circle><circle cx=\"111.97368421052632\" cy=\"80.01276512823306\" r=\"3\" fill=\"blue\"></circle><circle cx=\"119.76315789473685\" cy=\"21.5887600306163\" r=\"3\" fill=\"red\"></circle><circle cx=\"127.55263157894736\" cy=\"72.51406609463639\" r=\"3\" fill=\"blue\"></circle><circle cx=\"135.3421052631579\" cy=\"134.14956271619192\" r=\"3\" fill=\"red\"></circle><circle cx=\"143.1315789473684\" cy=\"58.6896845344271\" r=\"3\" fill=\"red\"></circle><circle cx=\"150.92105263157896\" cy=\"104.32676459658671\" r=\"3\" fill=\"blue\"></circle><circle cx=\"158.71052631578948\" cy=\"91.82055032275211\" r=\"3\" fill=\"blue\"></circle><circle cx=\"166.5\" cy=\"25.208489926678254\" r=\"3\" fill=\"red\"></circle><polygon points=\"-200,-7.2829707186953385 385,92.61892127124148 385,147.27807313192736 -200,47.376181141990514\" style=\"fill: rgba(0, 0, 0, 0.3);\"></polygon><line x1=\"0\" y1=\"81.04893914562416\" x2=\"185\" y2=\"81.04893914562416\" style=\"stroke: rgba(0, 0, 0, 0.1); stroke-width: 248.952px;\"></line><line x1=\"-200\" y1=\"20.046605211647574\" x2=\"385\" y2=\"119.94849720158442\" style=\"stroke: rgba(0, 0, 0, 0.7); stroke-width: 2px;\"></line></svg></div><div data-v-2e966a4f=\"\"><svg data-v-2e966a4f=\"\" height=\"185\" width=\"185\" xmlns=\"http://www.w3.org/2000/svg\" xmlns:xlink=\"http://www.w3.org/1999/xlink\" version=\"1.1\"><circle cx=\"18.5\" cy=\"108.61822480504676\" r=\"3\" fill=\"red\"></circle><circle cx=\"26.289473684210524\" cy=\"110.02719910390988\" r=\"3\" fill=\"red\"></circle><circle cx=\"34.078947368421055\" cy=\"54.46996805766017\" r=\"3\" fill=\"red\"></circle><circle cx=\"41.868421052631575\" cy=\"50.202509147616794\" r=\"3\" fill=\"red\"></circle><circle cx=\"49.6578947368421\" cy=\"137.32090503958565\" r=\"3\" fill=\"red\"></circle><circle cx=\"57.44736842105264\" cy=\"110.26902953298199\" r=\"3\" fill=\"red\"></circle><circle cx=\"65.23684210526315\" cy=\"89.08647994069649\" r=\"3\" fill=\"red\"></circle><circle cx=\"73.02631578947367\" cy=\"51.91414845731279\" r=\"3\" fill=\"red\"></circle><circle cx=\"80.8157894736842\" cy=\"116.87878688562407\" r=\"3\" fill=\"red\"></circle><circle cx=\"88.60526315789474\" cy=\"87.34300645750761\" r=\"3\" fill=\"red\"></circle><circle cx=\"96.39473684210527\" cy=\"54.4172638063892\" r=\"3\" fill=\"red\"></circle><circle cx=\"104.1842105263158\" cy=\"111.96688703609752\" r=\"3\" fill=\"red\"></circle><circle cx=\"111.97368421052632\" cy=\"121.68816212199243\" r=\"3\" fill=\"red\"></circle><circle cx=\"119.76315789473685\" cy=\"111.82451348472921\" r=\"3\" fill=\"red\"></circle><circle cx=\"127.55263157894736\" cy=\"18.5\" r=\"3\" fill=\"red\"></circle><circle cx=\"135.3421052631579\" cy=\"106.80408124985593\" r=\"3\" fill=\"red\"></circle><circle cx=\"143.1315789473684\" cy=\"80.71034396927142\" r=\"3\" fill=\"red\"></circle><circle cx=\"150.92105263157896\" cy=\"110.84259746396256\" r=\"3\" fill=\"red\"></circle><circle cx=\"158.71052631578948\" cy=\"166.5\" r=\"3\" fill=\"red\"></circle><circle cx=\"166.5\" cy=\"45.92269626949509\" r=\"3\" fill=\"red\"></circle><polygon points=\"-200,360.40241313659993 385,-181.60378468302747 385,-180.07051074152417 -200,361.93568707810323\" style=\"fill: rgba(0, 0, 0, 0.3);\"></polygon><line x1=\"0\" y1=\"90.9345659070537\" x2=\"185\" y2=\"90.9345659070537\" style=\"stroke: rgba(0, 0, 0, 0.1); stroke-width: 167.074px;\"></line><line x1=\"-200\" y1=\"361.1690501073516\" x2=\"385\" y2=\"-180.83714771227585\" style=\"stroke: rgba(0, 0, 0, 0.7); stroke-width: 2px;\"></line></svg></div><div data-v-2e966a4f=\"\"><svg data-v-2e966a4f=\"\" height=\"185\" width=\"185\" xmlns=\"http://www.w3.org/2000/svg\" xmlns:xlink=\"http://www.w3.org/1999/xlink\" version=\"1.1\"><circle cx=\"18.5\" cy=\"96.56739852635901\" r=\"3\" fill=\"blue\"></circle><circle cx=\"26.289473684210524\" cy=\"94.16300167504392\" r=\"3\" fill=\"blue\"></circle><circle cx=\"34.078947368421055\" cy=\"22.180034817872524\" r=\"3\" fill=\"red\"></circle><circle cx=\"41.868421052631575\" cy=\"77.39194127732503\" r=\"3\" fill=\"blue\"></circle><circle cx=\"49.6578947368421\" cy=\"68.10514469106808\" r=\"3\" fill=\"red\"></circle><circle cx=\"57.44736842105264\" cy=\"113.72353681427577\" r=\"3\" fill=\"red\"></circle><circle cx=\"65.23684210526315\" cy=\"71.48701904922858\" r=\"3\" fill=\"blue\"></circle><circle cx=\"73.02631578947367\" cy=\"153.28024391751438\" r=\"3\" fill=\"red\"></circle><circle cx=\"80.8157894736842\" cy=\"82.34646049806196\" r=\"3\" fill=\"red\"></circle><circle cx=\"88.60526315789474\" cy=\"148.67785214164104\" r=\"3\" fill=\"red\"></circle><circle cx=\"96.39473684210527\" cy=\"118.43510926123167\" r=\"3\" fill=\"red\"></circle><circle cx=\"104.1842105263158\" cy=\"43.367904245935875\" r=\"3\" fill=\"blue\"></circle><circle cx=\"111.97368421052632\" cy=\"166.5\" r=\"3\" fill=\"red\"></circle><circle cx=\"119.76315789473685\" cy=\"35.33293331623321\" r=\"3\" fill=\"red\"></circle><circle cx=\"127.55263157894736\" cy=\"45.49695374205346\" r=\"3\" fill=\"blue\"></circle><circle cx=\"135.3421052631579\" cy=\"28.43427884451239\" r=\"3\" fill=\"red\"></circle><circle cx=\"143.1315789473684\" cy=\"18.5\" r=\"3\" fill=\"red\"></circle><circle cx=\"150.92105263157896\" cy=\"105.60548319164035\" r=\"3\" fill=\"red\"></circle><circle cx=\"158.71052631578948\" cy=\"50.13673520800715\" r=\"3\" fill=\"red\"></circle><circle cx=\"166.5\" cy=\"40.605197731207056\" r=\"3\" fill=\"blue\"></circle><polygon points=\"-200,152.2821395361943 385,-65.29988102273674 385,-35.58870802549322 -200,181.99331253343786\" style=\"fill: rgba(0, 0, 0, 0.3);\"></polygon><line x1=\"0\" y1=\"79.25099687651866\" x2=\"185\" y2=\"79.25099687651866\" style=\"stroke: rgba(0, 0, 0, 0.1); stroke-width: 190.888px;\"></line><line x1=\"-200\" y1=\"167.13772603481607\" x2=\"385\" y2=\"-50.44429452411498\" style=\"stroke: rgba(0, 0, 0, 0.7); stroke-width: 2px;\"></line></svg></div><div data-v-2e966a4f=\"\"><svg data-v-2e966a4f=\"\" height=\"185\" width=\"185\" xmlns=\"http://www.w3.org/2000/svg\" xmlns:xlink=\"http://www.w3.org/1999/xlink\" version=\"1.1\"><circle cx=\"18.5\" cy=\"121.77356692590561\" r=\"3\" fill=\"blue\"></circle><circle cx=\"26.289473684210524\" cy=\"125.27377828108388\" r=\"3\" fill=\"blue\"></circle><circle cx=\"34.078947368421055\" cy=\"120.24959200410662\" r=\"3\" fill=\"blue\"></circle><circle cx=\"41.868421052631575\" cy=\"57.93780795553201\" r=\"3\" fill=\"red\"></circle><circle cx=\"49.6578947368421\" cy=\"132.92328890115584\" r=\"3\" fill=\"blue\"></circle><circle cx=\"57.44736842105264\" cy=\"131.48755335590914\" r=\"3\" fill=\"blue\"></circle><circle cx=\"65.23684210526315\" cy=\"128.64113969399068\" r=\"3\" fill=\"blue\"></circle><circle cx=\"73.02631578947367\" cy=\"95.63890752077218\" r=\"3\" fill=\"red\"></circle><circle cx=\"80.8157894736842\" cy=\"125.38204524690795\" r=\"3\" fill=\"red\"></circle><circle cx=\"88.60526315789474\" cy=\"125.02534282117345\" r=\"3\" fill=\"red\"></circle><circle cx=\"96.39473684210527\" cy=\"143.81055903238516\" r=\"3\" fill=\"blue\"></circle><circle cx=\"104.1842105263158\" cy=\"156.59338704999627\" r=\"3\" fill=\"blue\"></circle><circle cx=\"111.97368421052632\" cy=\"149.62147833765025\" r=\"3\" fill=\"blue\"></circle><circle cx=\"119.76315789473685\" cy=\"150.14991608530138\" r=\"3\" fill=\"blue\"></circle><circle cx=\"127.55263157894736\" cy=\"145.98957006748884\" r=\"3\" fill=\"blue\"></circle><circle cx=\"135.3421052631579\" cy=\"158.44870826464427\" r=\"3\" fill=\"blue\"></circle><circle cx=\"143.1315789473684\" cy=\"166.5\" r=\"3\" fill=\"blue\"></circle><circle cx=\"150.92105263157896\" cy=\"18.5\" r=\"3\" fill=\"red\"></circle><circle cx=\"158.71052631578948\" cy=\"132.0702997885565\" r=\"3\" fill=\"red\"></circle><circle cx=\"166.5\" cy=\"116.02227613395445\" r=\"3\" fill=\"red\"></circle><polygon points=\"-200,23.616732731329222 385,223.03392281881446 385,258.64485113283075 -200,59.227661045345556\" style=\"fill: rgba(0, 0, 0, 0.3);\"></polygon><line x1=\"0\" y1=\"148.52146241944487\" x2=\"185\" y2=\"148.52146241944487\" style=\"stroke: rgba(0, 0, 0, 0.1); stroke-width: 281.218px;\"></line><line x1=\"-200\" y1=\"41.42219688833741\" x2=\"385\" y2=\"240.8393869758226\" style=\"stroke: rgba(0, 0, 0, 0.7); stroke-width: 2px;\"></line></svg></div><div data-v-2e966a4f=\"\"><svg data-v-2e966a4f=\"\" height=\"185\" width=\"185\" xmlns=\"http://www.w3.org/2000/svg\" xmlns:xlink=\"http://www.w3.org/1999/xlink\" version=\"1.1\"><circle cx=\"18.5\" cy=\"119.73027045383716\" r=\"3\" fill=\"blue\"></circle><circle cx=\"26.289473684210524\" cy=\"112.14661505636806\" r=\"3\" fill=\"blue\"></circle><circle cx=\"34.078947368421055\" cy=\"85.58328539719358\" r=\"3\" fill=\"red\"></circle><circle cx=\"41.868421052631575\" cy=\"116.74063364591717\" r=\"3\" fill=\"blue\"></circle><circle cx=\"49.6578947368421\" cy=\"114.71210807617801\" r=\"3\" fill=\"red\"></circle><circle cx=\"57.44736842105264\" cy=\"118.11179724731171\" r=\"3\" fill=\"red\"></circle><circle cx=\"65.23684210526315\" cy=\"166.5\" r=\"3\" fill=\"red\"></circle><circle cx=\"73.02631578947367\" cy=\"99.36665519524895\" r=\"3\" fill=\"red\"></circle><circle cx=\"80.8157894736842\" cy=\"107.37147809000925\" r=\"3\" fill=\"blue\"></circle><circle cx=\"88.60526315789474\" cy=\"145.04296363818543\" r=\"3\" fill=\"red\"></circle><circle cx=\"96.39473684210527\" cy=\"111.41257923635365\" r=\"3\" fill=\"red\"></circle><circle cx=\"104.1842105263158\" cy=\"125.99581635735359\" r=\"3\" fill=\"red\"></circle><circle cx=\"111.97368421052632\" cy=\"18.5\" r=\"3\" fill=\"red\"></circle><circle cx=\"119.76315789473685\" cy=\"26.74367425638053\" r=\"3\" fill=\"red\"></circle><circle cx=\"127.55263157894736\" cy=\"94.73319480052739\" r=\"3\" fill=\"red\"></circle><circle cx=\"135.3421052631579\" cy=\"120.64810315915201\" r=\"3\" fill=\"red\"></circle><circle cx=\"143.1315789473684\" cy=\"59.65093969535975\" r=\"3\" fill=\"red\"></circle><circle cx=\"150.92105263157896\" cy=\"60.45761100362411\" r=\"3\" fill=\"red\"></circle><circle cx=\"158.71052631578948\" cy=\"71.11859464794762\" r=\"3\" fill=\"red\"></circle><circle cx=\"166.5\" cy=\"86.34168176866532\" r=\"3\" fill=\"red\"></circle><polygon points=\"-200,120.69616049864325 385,67.28227627212776 385,93.00170708243503 -200,146.41559130895052\" style=\"fill: rgba(0, 0, 0, 0.3);\"></polygon><line x1=\"0\" y1=\"97.17988369729613\" x2=\"185\" y2=\"97.17988369729613\" style=\"stroke: rgba(0, 0, 0, 0.1); stroke-width: 144.214px;\"></line><line x1=\"-200\" y1=\"133.5558759037969\" x2=\"385\" y2=\"80.1419916772814\" style=\"stroke: rgba(0, 0, 0, 0.7); stroke-width: 2px;\"></line></svg></div><div data-v-2e966a4f=\"\"><svg data-v-2e966a4f=\"\" height=\"185\" width=\"185\" xmlns=\"http://www.w3.org/2000/svg\" xmlns:xlink=\"http://www.w3.org/1999/xlink\" version=\"1.1\"><circle cx=\"18.5\" cy=\"50.92980193998471\" r=\"3\" fill=\"blue\"></circle><circle cx=\"26.289473684210524\" cy=\"18.5\" r=\"3\" fill=\"red\"></circle><circle cx=\"34.078947368421055\" cy=\"49.35414118454233\" r=\"3\" fill=\"red\"></circle><circle cx=\"41.868421052631575\" cy=\"62.16175416976077\" r=\"3\" fill=\"blue\"></circle><circle cx=\"49.6578947368421\" cy=\"166.5\" r=\"3\" fill=\"red\"></circle><circle cx=\"57.44736842105264\" cy=\"84.30384481657562\" r=\"3\" fill=\"red\"></circle><circle cx=\"65.23684210526315\" cy=\"70.27409366442471\" r=\"3\" fill=\"blue\"></circle><circle cx=\"73.02631578947367\" cy=\"72.35751211720488\" r=\"3\" fill=\"blue\"></circle><circle cx=\"80.8157894736842\" cy=\"75.45122246428738\" r=\"3\" fill=\"blue\"></circle><circle cx=\"88.60526315789474\" cy=\"43.711802519782296\" r=\"3\" fill=\"red\"></circle><circle cx=\"96.39473684210527\" cy=\"45.228998644250666\" r=\"3\" fill=\"red\"></circle><circle cx=\"104.1842105263158\" cy=\"85.31630971669014\" r=\"3\" fill=\"blue\"></circle><circle cx=\"111.97368421052632\" cy=\"42.088629364978914\" r=\"3\" fill=\"red\"></circle><circle cx=\"119.76315789473685\" cy=\"137.42645853554666\" r=\"3\" fill=\"red\"></circle><circle cx=\"127.55263157894736\" cy=\"91.44469229646846\" r=\"3\" fill=\"red\"></circle><circle cx=\"135.3421052631579\" cy=\"114.38188334469079\" r=\"3\" fill=\"red\"></circle><circle cx=\"143.1315789473684\" cy=\"84.94009771801338\" r=\"3\" fill=\"red\"></circle><circle cx=\"150.92105263157896\" cy=\"103.60221803792592\" r=\"3\" fill=\"blue\"></circle><circle cx=\"158.71052631578948\" cy=\"108.71637442659316\" r=\"3\" fill=\"blue\"></circle><circle cx=\"166.5\" cy=\"60.531758622895396\" r=\"3\" fill=\"red\"></circle><polygon points=\"-200,-36.80285695144579 385,192.40868434447927 385,200.09937969706655 -200,-29.112161598858535\" style=\"fill: rgba(0, 0, 0, 0.3);\"></polygon><line x1=\"0\" y1=\"81.6480349894937\" x2=\"185\" y2=\"81.6480349894937\" style=\"stroke: rgba(0, 0, 0, 0.1); stroke-width: 144.28px;\"></line><line x1=\"-200\" y1=\"-32.95750927515218\" x2=\"385\" y2=\"196.2540320207729\" style=\"stroke: rgba(0, 0, 0, 0.7); stroke-width: 2px;\"></line></svg></div><div data-v-2e966a4f=\"\"><svg data-v-2e966a4f=\"\" height=\"185\" width=\"185\" xmlns=\"http://www.w3.org/2000/svg\" xmlns:xlink=\"http://www.w3.org/1999/xlink\" version=\"1.1\"><circle cx=\"18.5\" cy=\"31.706719632620974\" r=\"3\" fill=\"blue\"></circle><circle cx=\"26.289473684210524\" cy=\"29.28468174511582\" r=\"3\" fill=\"blue\"></circle><circle cx=\"34.078947368421055\" cy=\"75.00128247339384\" r=\"3\" fill=\"red\"></circle><circle cx=\"41.868421052631575\" cy=\"39.139248129552456\" r=\"3\" fill=\"blue\"></circle><circle cx=\"49.6578947368421\" cy=\"57.65639678585694\" r=\"3\" fill=\"red\"></circle><circle cx=\"57.44736842105264\" cy=\"79.14511403054864\" r=\"3\" fill=\"red\"></circle><circle cx=\"65.23684210526315\" cy=\"18.5\" r=\"3\" fill=\"red\"></circle><circle cx=\"73.02631578947367\" cy=\"78.78228799985457\" r=\"3\" fill=\"red\"></circle><circle cx=\"80.8157894736842\" cy=\"118.32836648095477\" r=\"3\" fill=\"red\"></circle><circle cx=\"88.60526315789474\" cy=\"73.54032321690094\" r=\"3\" fill=\"blue\"></circle><circle cx=\"96.39473684210527\" cy=\"30.600338977359172\" r=\"3\" fill=\"red\"></circle><circle cx=\"104.1842105263158\" cy=\"127.97834678224876\" r=\"3\" fill=\"red\"></circle><circle cx=\"111.97368421052632\" cy=\"91.5495424044621\" r=\"3\" fill=\"red\"></circle><circle cx=\"119.76315789473685\" cy=\"166.5\" r=\"3\" fill=\"red\"></circle><circle cx=\"127.55263157894736\" cy=\"42.99830995962773\" r=\"3\" fill=\"red\"></circle><circle cx=\"135.3421052631579\" cy=\"24.682567351513796\" r=\"3\" fill=\"red\"></circle><circle cx=\"143.1315789473684\" cy=\"100.6036426689841\" r=\"3\" fill=\"red\"></circle><circle cx=\"150.92105263157896\" cy=\"89.7371976930447\" r=\"3\" fill=\"red\"></circle><circle cx=\"158.71052631578948\" cy=\"116.434062788662\" r=\"3\" fill=\"red\"></circle><circle cx=\"166.5\" cy=\"132.25408875212764\" r=\"3\" fill=\"red\"></circle><polygon points=\"-200,-203.41097488308105 385,340.75395672832383 385,378.6733653726383 -200,-165.4915662387666\" style=\"fill: rgba(0, 0, 0, 0.3);\"></polygon><line x1=\"0\" y1=\"88.91676974319897\" x2=\"185\" y2=\"88.91676974319897\" style=\"stroke: rgba(0, 0, 0, 0.1); stroke-width: 186.055px;\"></line><line x1=\"-200\" y1=\"-184.4512705609239\" x2=\"385\" y2=\"359.71366105048105\" style=\"stroke: rgba(0, 0, 0, 0.7); stroke-width: 2px;\"></line></svg></div><div data-v-2e966a4f=\"\"><svg data-v-2e966a4f=\"\" height=\"185\" width=\"185\" xmlns=\"http://www.w3.org/2000/svg\" xmlns:xlink=\"http://www.w3.org/1999/xlink\" version=\"1.1\"><circle cx=\"18.5\" cy=\"88.86254091674915\" r=\"3\" fill=\"red\"></circle><circle cx=\"26.289473684210524\" cy=\"105.95814033833713\" r=\"3\" fill=\"red\"></circle><circle cx=\"34.078947368421055\" cy=\"124.58932627470679\" r=\"3\" fill=\"red\"></circle><circle cx=\"41.868421052631575\" cy=\"82.68010958608232\" r=\"3\" fill=\"red\"></circle><circle cx=\"49.6578947368421\" cy=\"118.14264140568841\" r=\"3\" fill=\"red\"></circle><circle cx=\"57.44736842105264\" cy=\"101.77807543099719\" r=\"3\" fill=\"red\"></circle><circle cx=\"65.23684210526315\" cy=\"100.23063487196787\" r=\"3\" fill=\"red\"></circle><circle cx=\"73.02631578947367\" cy=\"126.20721833991959\" r=\"3\" fill=\"red\"></circle><circle cx=\"80.8157894736842\" cy=\"166.5\" r=\"3\" fill=\"red\"></circle><circle cx=\"88.60526315789474\" cy=\"89.45753569544334\" r=\"3\" fill=\"red\"></circle><circle cx=\"96.39473684210527\" cy=\"108.63082665359705\" r=\"3\" fill=\"red\"></circle><circle cx=\"104.1842105263158\" cy=\"66.7569318049032\" r=\"3\" fill=\"red\"></circle><circle cx=\"111.97368421052632\" cy=\"83.25217275429387\" r=\"3\" fill=\"red\"></circle><circle cx=\"119.76315789473685\" cy=\"130.22997960384487\" r=\"3\" fill=\"blue\"></circle><circle cx=\"127.55263157894736\" cy=\"117.0150930146861\" r=\"3\" fill=\"red\"></circle><circle cx=\"135.3421052631579\" cy=\"128.02923215951236\" r=\"3\" fill=\"red\"></circle><circle cx=\"143.1315789473684\" cy=\"157.84086112030968\" r=\"3\" fill=\"red\"></circle><circle cx=\"150.92105263157896\" cy=\"117.0258262700105\" r=\"3\" fill=\"red\"></circle><circle cx=\"158.71052631578948\" cy=\"18.5\" r=\"3\" fill=\"red\"></circle><circle cx=\"166.5\" cy=\"95.59959027248992\" r=\"3\" fill=\"red\"></circle><polygon points=\"-200,-128.3372493785012 385,342.28118609194564 385,344.50078804889984 -200,-126.11764742154702\" style=\"fill: rgba(0, 0, 0, 0.3);\"></polygon><line x1=\"0\" y1=\"109.59080644670303\" x2=\"185\" y2=\"109.59080644670303\" style=\"stroke: rgba(0, 0, 0, 0.1); stroke-width: 121.785px;\"></line><line x1=\"-200\" y1=\"-127.22744840002412\" x2=\"385\" y2=\"343.39098707042274\" style=\"stroke: rgba(0, 0, 0, 0.7); stroke-width: 2px;\"></line></svg></div><div data-v-2e966a4f=\"\"><svg data-v-2e966a4f=\"\" height=\"185\" width=\"185\" xmlns=\"http://www.w3.org/2000/svg\" xmlns:xlink=\"http://www.w3.org/1999/xlink\" version=\"1.1\"><circle cx=\"18.5\" cy=\"26.926516053035385\" r=\"3\" fill=\"blue\"></circle><circle cx=\"26.289473684210524\" cy=\"18.5\" r=\"3\" fill=\"blue\"></circle><circle cx=\"34.078947368421055\" cy=\"30.659317310843363\" r=\"3\" fill=\"blue\"></circle><circle cx=\"41.868421052631575\" cy=\"34.83458822843656\" r=\"3\" fill=\"blue\"></circle><circle cx=\"49.6578947368421\" cy=\"44.757092507346\" r=\"3\" fill=\"blue\"></circle><circle cx=\"57.44736842105264\" cy=\"67.15347850105975\" r=\"3\" fill=\"blue\"></circle><circle cx=\"65.23684210526315\" cy=\"61.182508042446216\" r=\"3\" fill=\"blue\"></circle><circle cx=\"73.02631578947367\" cy=\"93.27942937317444\" r=\"3\" fill=\"red\"></circle><circle cx=\"80.8157894736842\" cy=\"81.07931642166768\" r=\"3\" fill=\"blue\"></circle><circle cx=\"88.60526315789474\" cy=\"71.81225753741442\" r=\"3\" fill=\"blue\"></circle><circle cx=\"96.39473684210527\" cy=\"85.5784137625098\" r=\"3\" fill=\"blue\"></circle><circle cx=\"104.1842105263158\" cy=\"93.72386411584121\" r=\"3\" fill=\"blue\"></circle><circle cx=\"111.97368421052632\" cy=\"121.46505881007424\" r=\"3\" fill=\"blue\"></circle><circle cx=\"119.76315789473685\" cy=\"117.02280762161061\" r=\"3\" fill=\"blue\"></circle><circle cx=\"127.55263157894736\" cy=\"121.60394552476983\" r=\"3\" fill=\"blue\"></circle><circle cx=\"135.3421052631579\" cy=\"53.79345715214785\" r=\"3\" fill=\"red\"></circle><circle cx=\"143.1315789473684\" cy=\"143.2066906405463\" r=\"3\" fill=\"blue\"></circle><circle cx=\"150.92105263157896\" cy=\"98.02265756335315\" r=\"3\" fill=\"red\"></circle><circle cx=\"158.71052631578948\" cy=\"158.70709710925883\" r=\"3\" fill=\"blue\"></circle><circle cx=\"166.5\" cy=\"166.5\" r=\"3\" fill=\"blue\"></circle><polygon points=\"-200,-204.36255139181878 385,354.85130484588626 385,390.44386566762967 -200,-168.76999057007532\" style=\"fill: rgba(0, 0, 0, 0.3);\"></polygon><line x1=\"0\" y1=\"97.66641421423142\" x2=\"185\" y2=\"97.66641421423142\" style=\"stroke: rgba(0, 0, 0, 0.1); stroke-width: 161.373px;\"></line><line x1=\"-200\" y1=\"-186.56627098094697\" x2=\"385\" y2=\"372.6475852567579\" style=\"stroke: rgba(0, 0, 0, 0.7); stroke-width: 2px;\"></line></svg></div><div data-v-2e966a4f=\"\"><svg data-v-2e966a4f=\"\" height=\"185\" width=\"185\" xmlns=\"http://www.w3.org/2000/svg\" xmlns:xlink=\"http://www.w3.org/1999/xlink\" version=\"1.1\"><circle cx=\"18.5\" cy=\"47.30283672718305\" r=\"3\" fill=\"blue\"></circle><circle cx=\"26.289473684210524\" cy=\"51.92556833378903\" r=\"3\" fill=\"blue\"></circle><circle cx=\"34.078947368421055\" cy=\"147.86070777059243\" r=\"3\" fill=\"red\"></circle><circle cx=\"41.868421052631575\" cy=\"68.20686346599835\" r=\"3\" fill=\"red\"></circle><circle cx=\"49.6578947368421\" cy=\"18.5\" r=\"3\" fill=\"red\"></circle><circle cx=\"57.44736842105264\" cy=\"102.02005259505444\" r=\"3\" fill=\"red\"></circle><circle cx=\"65.23684210526315\" cy=\"64.4371605557599\" r=\"3\" fill=\"red\"></circle><circle cx=\"73.02631578947367\" cy=\"108.5325442948139\" r=\"3\" fill=\"red\"></circle><circle cx=\"80.8157894736842\" cy=\"27.523095328522203\" r=\"3\" fill=\"red\"></circle><circle cx=\"88.60526315789474\" cy=\"66.532759099326\" r=\"3\" fill=\"red\"></circle><circle cx=\"96.39473684210527\" cy=\"97.3155151467138\" r=\"3\" fill=\"red\"></circle><circle cx=\"104.1842105263158\" cy=\"85.32608078094925\" r=\"3\" fill=\"blue\"></circle><circle cx=\"111.97368421052632\" cy=\"101.28540895970978\" r=\"3\" fill=\"red\"></circle><circle cx=\"119.76315789473685\" cy=\"166.5\" r=\"3\" fill=\"red\"></circle><circle cx=\"127.55263157894736\" cy=\"100.2095325593986\" r=\"3\" fill=\"red\"></circle><circle cx=\"135.3421052631579\" cy=\"19.87823086687908\" r=\"3\" fill=\"red\"></circle><circle cx=\"143.1315789473684\" cy=\"39.19313596786387\" r=\"3\" fill=\"red\"></circle><circle cx=\"150.92105263157896\" cy=\"75.85383488341199\" r=\"3\" fill=\"red\"></circle><circle cx=\"158.71052631578948\" cy=\"130.86081631029447\" r=\"3\" fill=\"red\"></circle><circle cx=\"166.5\" cy=\"36.85446383688284\" r=\"3\" fill=\"red\"></circle><polygon points=\"-200,-55.06616641918009 385,212.96280122043441 385,216.87961691239371 -200,-51.14935072722082\" style=\"fill: rgba(0, 0, 0, 0.3);\"></polygon><line x1=\"0\" y1=\"86.32511961469264\" x2=\"185\" y2=\"86.32511961469264\" style=\"stroke: rgba(0, 0, 0, 0.1); stroke-width: 205.62px;\"></line><line x1=\"-200\" y1=\"-53.10775857320044\" x2=\"385\" y2=\"214.92120906641406\" style=\"stroke: rgba(0, 0, 0, 0.7); stroke-width: 2px;\"></line></svg></div></div></div><style>body, html { margin-left: 0px; margin-right: 0px; }\n",
       "h1[data-v-2e966a4f] { font-family: Avenir, Helvetica, Arial, sans-serif; text-align: center; }\n",
       "#traces[data-v-2e966a4f] { display: flex; -moz-box-orient: horizontal; -moz-box-direction: normal; flex-flow: row wrap; }\n",
       "#app { font-family: Avenir, Helvetica, Arial, sans-serif; color: rgb(44, 62, 80); }</style>"
      ]
     },
     "metadata": {},
     "output_type": "display_data"
    }
   ],
   "source": [
    "# Get some x coordinates and initialize a visualization\n",
    "xs = collect(range(-5, stop=5, length=20))\n",
    "viz = Viz(server, joinpath(@__DIR__, \"../tutorials/regression-viz/dist\"), [xs])\n",
    "\n",
    "# Generate ten traces and draw them into the visualization\n",
    "for i=1:10\n",
    "    (trace, _) = Gen.generate(model, (xs,))\n",
    "    ys = Gen.get_retval(trace)\n",
    "    putTrace!(viz, \"t$(i)\", serialize_trace(trace))\n",
    "end\n",
    "\n",
    "# Display the visualization in this notebook\n",
    "displayInNotebook(viz)"
   ]
  },
  {
   "cell_type": "markdown",
   "metadata": {},
   "source": [
    "Note that an outlier can occur anywhere — including close to the line — and that our model is capable of generating datasets in which the vast majority of points are outliers."
   ]
  },
  {
   "cell_type": "markdown",
   "metadata": {},
   "source": [
    "## 3. The problem with generic importance sampling  <a name=\"generic-importance\"></a>"
   ]
  },
  {
   "cell_type": "markdown",
   "metadata": {},
   "source": [
    "To motivate the need for more complex inference algorithms, let's begin by using the simple importance sampling method from the previous tutorial, and thinking about where it fails.\n",
    "\n",
    "First, let us create a synthetic dataset to do inference _about_."
   ]
  },
  {
   "cell_type": "code",
   "execution_count": 5,
   "metadata": {},
   "outputs": [],
   "source": [
    "function make_synthetic_dataset(n)\n",
    "    Random.seed!(1)\n",
    "    prob_outlier = 0.2\n",
    "    true_inlier_noise = 0.5\n",
    "    true_outlier_noise = 5.0\n",
    "    true_slope = -1\n",
    "    true_intercept = 2\n",
    "    xs = collect(range(-5, stop=5, length=n))\n",
    "    ys = Float64[]\n",
    "    for (i, x) in enumerate(xs)\n",
    "        if rand() < prob_outlier\n",
    "            y = randn() * true_outlier_noise\n",
    "        else\n",
    "            y = true_slope * x + true_intercept + randn() * true_inlier_noise\n",
    "        end\n",
    "        push!(ys, y)\n",
    "    end\n",
    "    (xs, ys)\n",
    "end\n",
    "    \n",
    "(xs, ys) = make_synthetic_dataset(20);"
   ]
  },
  {
   "cell_type": "markdown",
   "metadata": {},
   "source": [
    "In Gen, we express our _observations_ as an _Assignment_ that constrains the values of certain random choices to equal their observed values. Let's write a helper for that:"
   ]
  },
  {
   "cell_type": "code",
   "execution_count": 6,
   "metadata": {},
   "outputs": [],
   "source": [
    "function make_constraints(ys::Vector{Float64})\n",
    "    constraints = Gen.choicemap()\n",
    "    for i=1:length(ys)\n",
    "        constraints[:data => i => :y] = ys[i]\n",
    "    end\n",
    "    constraints\n",
    "end;"
   ]
  },
  {
   "cell_type": "markdown",
   "metadata": {},
   "source": [
    "We can apply it to our dataset's vector of `ys` to make a set of constraints for doing inference:"
   ]
  },
  {
   "cell_type": "code",
   "execution_count": 7,
   "metadata": {},
   "outputs": [],
   "source": [
    "observations = make_constraints(ys);"
   ]
  },
  {
   "cell_type": "markdown",
   "metadata": {},
   "source": [
    "Now, we use the library function `importance_resampling` to draw approximate posterior samples given those observations:"
   ]
  },
  {
   "cell_type": "code",
   "execution_count": 8,
   "metadata": {},
   "outputs": [],
   "source": [
    "function logmeanexp(scores)\n",
    "    logsumexp(scores) - log(length(scores))\n",
    "end;"
   ]
  },
  {
   "cell_type": "code",
   "execution_count": 9,
   "metadata": {},
   "outputs": [
    {
     "data": {
      "text/html": [
       "<div data-v-2e966a4f=\"\"><h1 data-v-2e966a4f=\"\">Traces</h1><div data-v-2e966a4f=\"\" id=\"traces\"><div data-v-2e966a4f=\"\"><svg data-v-2e966a4f=\"\" height=\"185\" width=\"185\" xmlns=\"http://www.w3.org/2000/svg\" xmlns:xlink=\"http://www.w3.org/1999/xlink\" version=\"1.1\"><circle cx=\"18.5\" cy=\"18.5\" r=\"3\" fill=\"blue\"></circle><circle cx=\"26.289473684210524\" cy=\"24.52007486590381\" r=\"3\" fill=\"blue\"></circle><circle cx=\"34.078947368421055\" cy=\"27.564840726345153\" r=\"3\" fill=\"blue\"></circle><circle cx=\"41.868421052631575\" cy=\"42.686442556926394\" r=\"3\" fill=\"blue\"></circle><circle cx=\"49.6578947368421\" cy=\"35.831731362971084\" r=\"3\" fill=\"blue\"></circle><circle cx=\"57.44736842105264\" cy=\"38.00067126933476\" r=\"3\" fill=\"blue\"></circle><circle cx=\"65.23684210526315\" cy=\"48.571879918899654\" r=\"3\" fill=\"red\"></circle><circle cx=\"73.02631578947367\" cy=\"50.99055893432261\" r=\"3\" fill=\"blue\"></circle><circle cx=\"80.8157894736842\" cy=\"62.55204235695085\" r=\"3\" fill=\"blue\"></circle><circle cx=\"88.60526315789474\" cy=\"109.95324446473265\" r=\"3\" fill=\"red\"></circle><circle cx=\"96.39473684210527\" cy=\"60.61742451235564\" r=\"3\" fill=\"red\"></circle><circle cx=\"104.1842105263158\" cy=\"66.02217422425394\" r=\"3\" fill=\"blue\"></circle><circle cx=\"111.97368421052632\" cy=\"22.718788556765105\" r=\"3\" fill=\"blue\"></circle><circle cx=\"119.76315789473685\" cy=\"109.44644411290571\" r=\"3\" fill=\"blue\"></circle><circle cx=\"127.55263157894736\" cy=\"81.68975854355924\" r=\"3\" fill=\"blue\"></circle><circle cx=\"135.3421052631579\" cy=\"166.5\" r=\"3\" fill=\"red\"></circle><circle cx=\"143.1315789473684\" cy=\"27.486666556292477\" r=\"3\" fill=\"red\"></circle><circle cx=\"150.92105263157896\" cy=\"91.44041629159767\" r=\"3\" fill=\"blue\"></circle><circle cx=\"158.71052631578948\" cy=\"105.28719334412665\" r=\"3\" fill=\"blue\"></circle><circle cx=\"166.5\" cy=\"110.89738300605535\" r=\"3\" fill=\"blue\"></circle><polygon points=\"-200,-168.92333293296815 385,235.7953317435206 385,320.1379959386557 -200,-84.58066873783304\" style=\"fill: rgba(0, 0, 0, 0.3);\"></polygon><line x1=\"0\" y1=\"78.3995020824914\" x2=\"185\" y2=\"78.3995020824914\" style=\"stroke: rgba(0, 0, 0, 0.1); stroke-width: 333.182px;\"></line><line x1=\"-200\" y1=\"-126.75200083540062\" x2=\"385\" y2=\"277.9666638410881\" style=\"stroke: rgba(0, 0, 0, 0.7); stroke-width: 2px;\"></line></svg></div><div data-v-2e966a4f=\"\"><svg data-v-2e966a4f=\"\" height=\"185\" width=\"185\" xmlns=\"http://www.w3.org/2000/svg\" xmlns:xlink=\"http://www.w3.org/1999/xlink\" version=\"1.1\"><circle cx=\"18.5\" cy=\"18.5\" r=\"3\" fill=\"blue\"></circle><circle cx=\"26.289473684210524\" cy=\"24.52007486590381\" r=\"3\" fill=\"red\"></circle><circle cx=\"34.078947368421055\" cy=\"27.564840726345153\" r=\"3\" fill=\"blue\"></circle><circle cx=\"41.868421052631575\" cy=\"42.686442556926394\" r=\"3\" fill=\"blue\"></circle><circle cx=\"49.6578947368421\" cy=\"35.831731362971084\" r=\"3\" fill=\"red\"></circle><circle cx=\"57.44736842105264\" cy=\"38.00067126933476\" r=\"3\" fill=\"red\"></circle><circle cx=\"65.23684210526315\" cy=\"48.571879918899654\" r=\"3\" fill=\"red\"></circle><circle cx=\"73.02631578947367\" cy=\"50.99055893432261\" r=\"3\" fill=\"blue\"></circle><circle cx=\"80.8157894736842\" cy=\"62.55204235695085\" r=\"3\" fill=\"blue\"></circle><circle cx=\"88.60526315789474\" cy=\"109.95324446473265\" r=\"3\" fill=\"red\"></circle><circle cx=\"96.39473684210527\" cy=\"60.61742451235564\" r=\"3\" fill=\"blue\"></circle><circle cx=\"104.1842105263158\" cy=\"66.02217422425394\" r=\"3\" fill=\"blue\"></circle><circle cx=\"111.97368421052632\" cy=\"22.718788556765105\" r=\"3\" fill=\"red\"></circle><circle cx=\"119.76315789473685\" cy=\"109.44644411290571\" r=\"3\" fill=\"blue\"></circle><circle cx=\"127.55263157894736\" cy=\"81.68975854355924\" r=\"3\" fill=\"blue\"></circle><circle cx=\"135.3421052631579\" cy=\"166.5\" r=\"3\" fill=\"red\"></circle><circle cx=\"143.1315789473684\" cy=\"27.486666556292477\" r=\"3\" fill=\"red\"></circle><circle cx=\"150.92105263157896\" cy=\"91.44041629159767\" r=\"3\" fill=\"blue\"></circle><circle cx=\"158.71052631578948\" cy=\"105.28719334412665\" r=\"3\" fill=\"blue\"></circle><circle cx=\"166.5\" cy=\"110.89738300605535\" r=\"3\" fill=\"red\"></circle><polygon points=\"-200,-63.566636742981274 385,133.49596057587524 385,193.5325278193028 -200,-3.5300694995537185\" style=\"fill: rgba(0, 0, 0, 0.3);\"></polygon><line x1=\"0\" y1=\"78.3995020824914\" x2=\"185\" y2=\"78.3995020824914\" style=\"stroke: rgba(0, 0, 0, 0.1); stroke-width: 333.182px;\"></line><line x1=\"-200\" y1=\"-33.548353121267496\" x2=\"385\" y2=\"163.51424419758902\" style=\"stroke: rgba(0, 0, 0, 0.7); stroke-width: 2px;\"></line></svg></div><div data-v-2e966a4f=\"\"><svg data-v-2e966a4f=\"\" height=\"185\" width=\"185\" xmlns=\"http://www.w3.org/2000/svg\" xmlns:xlink=\"http://www.w3.org/1999/xlink\" version=\"1.1\"><circle cx=\"18.5\" cy=\"18.5\" r=\"3\" fill=\"red\"></circle><circle cx=\"26.289473684210524\" cy=\"24.52007486590381\" r=\"3\" fill=\"blue\"></circle><circle cx=\"34.078947368421055\" cy=\"27.564840726345153\" r=\"3\" fill=\"blue\"></circle><circle cx=\"41.868421052631575\" cy=\"42.686442556926394\" r=\"3\" fill=\"blue\"></circle><circle cx=\"49.6578947368421\" cy=\"35.831731362971084\" r=\"3\" fill=\"blue\"></circle><circle cx=\"57.44736842105264\" cy=\"38.00067126933476\" r=\"3\" fill=\"blue\"></circle><circle cx=\"65.23684210526315\" cy=\"48.571879918899654\" r=\"3\" fill=\"blue\"></circle><circle cx=\"73.02631578947367\" cy=\"50.99055893432261\" r=\"3\" fill=\"blue\"></circle><circle cx=\"80.8157894736842\" cy=\"62.55204235695085\" r=\"3\" fill=\"blue\"></circle><circle cx=\"88.60526315789474\" cy=\"109.95324446473265\" r=\"3\" fill=\"blue\"></circle><circle cx=\"96.39473684210527\" cy=\"60.61742451235564\" r=\"3\" fill=\"blue\"></circle><circle cx=\"104.1842105263158\" cy=\"66.02217422425394\" r=\"3\" fill=\"blue\"></circle><circle cx=\"111.97368421052632\" cy=\"22.718788556765105\" r=\"3\" fill=\"blue\"></circle><circle cx=\"119.76315789473685\" cy=\"109.44644411290571\" r=\"3\" fill=\"blue\"></circle><circle cx=\"127.55263157894736\" cy=\"81.68975854355924\" r=\"3\" fill=\"blue\"></circle><circle cx=\"135.3421052631579\" cy=\"166.5\" r=\"3\" fill=\"blue\"></circle><circle cx=\"143.1315789473684\" cy=\"27.486666556292477\" r=\"3\" fill=\"red\"></circle><circle cx=\"150.92105263157896\" cy=\"91.44041629159767\" r=\"3\" fill=\"blue\"></circle><circle cx=\"158.71052631578948\" cy=\"105.28719334412665\" r=\"3\" fill=\"blue\"></circle><circle cx=\"166.5\" cy=\"110.89738300605535\" r=\"3\" fill=\"blue\"></circle><polygon points=\"-200,-167.1255127535348 385,155.74916241189032 385,294.94214495505105 -200,-27.93253021037404\" style=\"fill: rgba(0, 0, 0, 0.3);\"></polygon><line x1=\"0\" y1=\"78.3995020824914\" x2=\"185\" y2=\"78.3995020824914\" style=\"stroke: rgba(0, 0, 0, 0.1); stroke-width: 333.182px;\"></line><line x1=\"-200\" y1=\"-97.52902148195443\" x2=\"385\" y2=\"225.3456536834707\" style=\"stroke: rgba(0, 0, 0, 0.7); stroke-width: 2px;\"></line></svg></div><div data-v-2e966a4f=\"\"><svg data-v-2e966a4f=\"\" height=\"185\" width=\"185\" xmlns=\"http://www.w3.org/2000/svg\" xmlns:xlink=\"http://www.w3.org/1999/xlink\" version=\"1.1\"><circle cx=\"18.5\" cy=\"18.5\" r=\"3\" fill=\"blue\"></circle><circle cx=\"26.289473684210524\" cy=\"24.52007486590381\" r=\"3\" fill=\"blue\"></circle><circle cx=\"34.078947368421055\" cy=\"27.564840726345153\" r=\"3\" fill=\"blue\"></circle><circle cx=\"41.868421052631575\" cy=\"42.686442556926394\" r=\"3\" fill=\"blue\"></circle><circle cx=\"49.6578947368421\" cy=\"35.831731362971084\" r=\"3\" fill=\"blue\"></circle><circle cx=\"57.44736842105264\" cy=\"38.00067126933476\" r=\"3\" fill=\"blue\"></circle><circle cx=\"65.23684210526315\" cy=\"48.571879918899654\" r=\"3\" fill=\"blue\"></circle><circle cx=\"73.02631578947367\" cy=\"50.99055893432261\" r=\"3\" fill=\"blue\"></circle><circle cx=\"80.8157894736842\" cy=\"62.55204235695085\" r=\"3\" fill=\"blue\"></circle><circle cx=\"88.60526315789474\" cy=\"109.95324446473265\" r=\"3\" fill=\"blue\"></circle><circle cx=\"96.39473684210527\" cy=\"60.61742451235564\" r=\"3\" fill=\"blue\"></circle><circle cx=\"104.1842105263158\" cy=\"66.02217422425394\" r=\"3\" fill=\"blue\"></circle><circle cx=\"111.97368421052632\" cy=\"22.718788556765105\" r=\"3\" fill=\"blue\"></circle><circle cx=\"119.76315789473685\" cy=\"109.44644411290571\" r=\"3\" fill=\"blue\"></circle><circle cx=\"127.55263157894736\" cy=\"81.68975854355924\" r=\"3\" fill=\"blue\"></circle><circle cx=\"135.3421052631579\" cy=\"166.5\" r=\"3\" fill=\"blue\"></circle><circle cx=\"143.1315789473684\" cy=\"27.486666556292477\" r=\"3\" fill=\"blue\"></circle><circle cx=\"150.92105263157896\" cy=\"91.44041629159767\" r=\"3\" fill=\"blue\"></circle><circle cx=\"158.71052631578948\" cy=\"105.28719334412665\" r=\"3\" fill=\"blue\"></circle><circle cx=\"166.5\" cy=\"110.89738300605535\" r=\"3\" fill=\"blue\"></circle><polygon points=\"-200,-184.07438038137934 385,201.0760918574222 385,292.91281846053107 -200,-92.23765377827044\" style=\"fill: rgba(0, 0, 0, 0.3);\"></polygon><line x1=\"0\" y1=\"78.3995020824914\" x2=\"185\" y2=\"78.3995020824914\" style=\"stroke: rgba(0, 0, 0, 0.1); stroke-width: 333.182px;\"></line><line x1=\"-200\" y1=\"-138.1560170798249\" x2=\"385\" y2=\"246.99445515897662\" style=\"stroke: rgba(0, 0, 0, 0.7); stroke-width: 2px;\"></line></svg></div><div data-v-2e966a4f=\"\"><svg data-v-2e966a4f=\"\" height=\"185\" width=\"185\" xmlns=\"http://www.w3.org/2000/svg\" xmlns:xlink=\"http://www.w3.org/1999/xlink\" version=\"1.1\"><circle cx=\"18.5\" cy=\"18.5\" r=\"3\" fill=\"red\"></circle><circle cx=\"26.289473684210524\" cy=\"24.52007486590381\" r=\"3\" fill=\"blue\"></circle><circle cx=\"34.078947368421055\" cy=\"27.564840726345153\" r=\"3\" fill=\"blue\"></circle><circle cx=\"41.868421052631575\" cy=\"42.686442556926394\" r=\"3\" fill=\"blue\"></circle><circle cx=\"49.6578947368421\" cy=\"35.831731362971084\" r=\"3\" fill=\"blue\"></circle><circle cx=\"57.44736842105264\" cy=\"38.00067126933476\" r=\"3\" fill=\"red\"></circle><circle cx=\"65.23684210526315\" cy=\"48.571879918899654\" r=\"3\" fill=\"blue\"></circle><circle cx=\"73.02631578947367\" cy=\"50.99055893432261\" r=\"3\" fill=\"red\"></circle><circle cx=\"80.8157894736842\" cy=\"62.55204235695085\" r=\"3\" fill=\"red\"></circle><circle cx=\"88.60526315789474\" cy=\"109.95324446473265\" r=\"3\" fill=\"red\"></circle><circle cx=\"96.39473684210527\" cy=\"60.61742451235564\" r=\"3\" fill=\"blue\"></circle><circle cx=\"104.1842105263158\" cy=\"66.02217422425394\" r=\"3\" fill=\"red\"></circle><circle cx=\"111.97368421052632\" cy=\"22.718788556765105\" r=\"3\" fill=\"red\"></circle><circle cx=\"119.76315789473685\" cy=\"109.44644411290571\" r=\"3\" fill=\"red\"></circle><circle cx=\"127.55263157894736\" cy=\"81.68975854355924\" r=\"3\" fill=\"blue\"></circle><circle cx=\"135.3421052631579\" cy=\"166.5\" r=\"3\" fill=\"red\"></circle><circle cx=\"143.1315789473684\" cy=\"27.486666556292477\" r=\"3\" fill=\"red\"></circle><circle cx=\"150.92105263157896\" cy=\"91.44041629159767\" r=\"3\" fill=\"red\"></circle><circle cx=\"158.71052631578948\" cy=\"105.28719334412665\" r=\"3\" fill=\"blue\"></circle><circle cx=\"166.5\" cy=\"110.89738300605535\" r=\"3\" fill=\"blue\"></circle><polygon points=\"-200,-210.0143593024843 385,252.13688620991002 385,332.8854138870121 -200,-129.2658316253822\" style=\"fill: rgba(0, 0, 0, 0.3);\"></polygon><line x1=\"0\" y1=\"78.3995020824914\" x2=\"185\" y2=\"78.3995020824914\" style=\"stroke: rgba(0, 0, 0, 0.1); stroke-width: 333.182px;\"></line><line x1=\"-200\" y1=\"-169.64009546393322\" x2=\"385\" y2=\"292.51115004846105\" style=\"stroke: rgba(0, 0, 0, 0.7); stroke-width: 2px;\"></line></svg></div><div data-v-2e966a4f=\"\"><svg data-v-2e966a4f=\"\" height=\"185\" width=\"185\" xmlns=\"http://www.w3.org/2000/svg\" xmlns:xlink=\"http://www.w3.org/1999/xlink\" version=\"1.1\"><circle cx=\"18.5\" cy=\"18.5\" r=\"3\" fill=\"red\"></circle><circle cx=\"26.289473684210524\" cy=\"24.52007486590381\" r=\"3\" fill=\"blue\"></circle><circle cx=\"34.078947368421055\" cy=\"27.564840726345153\" r=\"3\" fill=\"blue\"></circle><circle cx=\"41.868421052631575\" cy=\"42.686442556926394\" r=\"3\" fill=\"red\"></circle><circle cx=\"49.6578947368421\" cy=\"35.831731362971084\" r=\"3\" fill=\"blue\"></circle><circle cx=\"57.44736842105264\" cy=\"38.00067126933476\" r=\"3\" fill=\"blue\"></circle><circle cx=\"65.23684210526315\" cy=\"48.571879918899654\" r=\"3\" fill=\"blue\"></circle><circle cx=\"73.02631578947367\" cy=\"50.99055893432261\" r=\"3\" fill=\"blue\"></circle><circle cx=\"80.8157894736842\" cy=\"62.55204235695085\" r=\"3\" fill=\"blue\"></circle><circle cx=\"88.60526315789474\" cy=\"109.95324446473265\" r=\"3\" fill=\"blue\"></circle><circle cx=\"96.39473684210527\" cy=\"60.61742451235564\" r=\"3\" fill=\"blue\"></circle><circle cx=\"104.1842105263158\" cy=\"66.02217422425394\" r=\"3\" fill=\"blue\"></circle><circle cx=\"111.97368421052632\" cy=\"22.718788556765105\" r=\"3\" fill=\"blue\"></circle><circle cx=\"119.76315789473685\" cy=\"109.44644411290571\" r=\"3\" fill=\"blue\"></circle><circle cx=\"127.55263157894736\" cy=\"81.68975854355924\" r=\"3\" fill=\"blue\"></circle><circle cx=\"135.3421052631579\" cy=\"166.5\" r=\"3\" fill=\"red\"></circle><circle cx=\"143.1315789473684\" cy=\"27.486666556292477\" r=\"3\" fill=\"red\"></circle><circle cx=\"150.92105263157896\" cy=\"91.44041629159767\" r=\"3\" fill=\"blue\"></circle><circle cx=\"158.71052631578948\" cy=\"105.28719334412665\" r=\"3\" fill=\"blue\"></circle><circle cx=\"166.5\" cy=\"110.89738300605535\" r=\"3\" fill=\"red\"></circle><polygon points=\"-200,-205.89272778838193 385,231.92801625145756 385,360.4352742360694 -200,-77.38546980377015\" style=\"fill: rgba(0, 0, 0, 0.3);\"></polygon><line x1=\"0\" y1=\"78.3995020824914\" x2=\"185\" y2=\"78.3995020824914\" style=\"stroke: rgba(0, 0, 0, 0.1); stroke-width: 333.182px;\"></line><line x1=\"-200\" y1=\"-141.63909879607604\" x2=\"385\" y2=\"296.18164524376346\" style=\"stroke: rgba(0, 0, 0, 0.7); stroke-width: 2px;\"></line></svg></div><div data-v-2e966a4f=\"\"><svg data-v-2e966a4f=\"\" height=\"185\" width=\"185\" xmlns=\"http://www.w3.org/2000/svg\" xmlns:xlink=\"http://www.w3.org/1999/xlink\" version=\"1.1\"><circle cx=\"18.5\" cy=\"18.5\" r=\"3\" fill=\"blue\"></circle><circle cx=\"26.289473684210524\" cy=\"24.52007486590381\" r=\"3\" fill=\"blue\"></circle><circle cx=\"34.078947368421055\" cy=\"27.564840726345153\" r=\"3\" fill=\"red\"></circle><circle cx=\"41.868421052631575\" cy=\"42.686442556926394\" r=\"3\" fill=\"blue\"></circle><circle cx=\"49.6578947368421\" cy=\"35.831731362971084\" r=\"3\" fill=\"red\"></circle><circle cx=\"57.44736842105264\" cy=\"38.00067126933476\" r=\"3\" fill=\"blue\"></circle><circle cx=\"65.23684210526315\" cy=\"48.571879918899654\" r=\"3\" fill=\"red\"></circle><circle cx=\"73.02631578947367\" cy=\"50.99055893432261\" r=\"3\" fill=\"blue\"></circle><circle cx=\"80.8157894736842\" cy=\"62.55204235695085\" r=\"3\" fill=\"blue\"></circle><circle cx=\"88.60526315789474\" cy=\"109.95324446473265\" r=\"3\" fill=\"red\"></circle><circle cx=\"96.39473684210527\" cy=\"60.61742451235564\" r=\"3\" fill=\"red\"></circle><circle cx=\"104.1842105263158\" cy=\"66.02217422425394\" r=\"3\" fill=\"red\"></circle><circle cx=\"111.97368421052632\" cy=\"22.718788556765105\" r=\"3\" fill=\"red\"></circle><circle cx=\"119.76315789473685\" cy=\"109.44644411290571\" r=\"3\" fill=\"red\"></circle><circle cx=\"127.55263157894736\" cy=\"81.68975854355924\" r=\"3\" fill=\"blue\"></circle><circle cx=\"135.3421052631579\" cy=\"166.5\" r=\"3\" fill=\"red\"></circle><circle cx=\"143.1315789473684\" cy=\"27.486666556292477\" r=\"3\" fill=\"red\"></circle><circle cx=\"150.92105263157896\" cy=\"91.44041629159767\" r=\"3\" fill=\"blue\"></circle><circle cx=\"158.71052631578948\" cy=\"105.28719334412665\" r=\"3\" fill=\"blue\"></circle><circle cx=\"166.5\" cy=\"110.89738300605535\" r=\"3\" fill=\"blue\"></circle><polygon points=\"-200,-152.14112454131293 385,251.70086126377493 385,274.19345106130015 -200,-129.6485347437877\" style=\"fill: rgba(0, 0, 0, 0.3);\"></polygon><line x1=\"0\" y1=\"78.3995020824914\" x2=\"185\" y2=\"78.3995020824914\" style=\"stroke: rgba(0, 0, 0, 0.1); stroke-width: 333.182px;\"></line><line x1=\"-200\" y1=\"-140.89482964255035\" x2=\"385\" y2=\"262.9471561625375\" style=\"stroke: rgba(0, 0, 0, 0.7); stroke-width: 2px;\"></line></svg></div><div data-v-2e966a4f=\"\"><svg data-v-2e966a4f=\"\" height=\"185\" width=\"185\" xmlns=\"http://www.w3.org/2000/svg\" xmlns:xlink=\"http://www.w3.org/1999/xlink\" version=\"1.1\"><circle cx=\"18.5\" cy=\"18.5\" r=\"3\" fill=\"red\"></circle><circle cx=\"26.289473684210524\" cy=\"24.52007486590381\" r=\"3\" fill=\"blue\"></circle><circle cx=\"34.078947368421055\" cy=\"27.564840726345153\" r=\"3\" fill=\"blue\"></circle><circle cx=\"41.868421052631575\" cy=\"42.686442556926394\" r=\"3\" fill=\"blue\"></circle><circle cx=\"49.6578947368421\" cy=\"35.831731362971084\" r=\"3\" fill=\"blue\"></circle><circle cx=\"57.44736842105264\" cy=\"38.00067126933476\" r=\"3\" fill=\"blue\"></circle><circle cx=\"65.23684210526315\" cy=\"48.571879918899654\" r=\"3\" fill=\"blue\"></circle><circle cx=\"73.02631578947367\" cy=\"50.99055893432261\" r=\"3\" fill=\"blue\"></circle><circle cx=\"80.8157894736842\" cy=\"62.55204235695085\" r=\"3\" fill=\"blue\"></circle><circle cx=\"88.60526315789474\" cy=\"109.95324446473265\" r=\"3\" fill=\"blue\"></circle><circle cx=\"96.39473684210527\" cy=\"60.61742451235564\" r=\"3\" fill=\"blue\"></circle><circle cx=\"104.1842105263158\" cy=\"66.02217422425394\" r=\"3\" fill=\"blue\"></circle><circle cx=\"111.97368421052632\" cy=\"22.718788556765105\" r=\"3\" fill=\"blue\"></circle><circle cx=\"119.76315789473685\" cy=\"109.44644411290571\" r=\"3\" fill=\"blue\"></circle><circle cx=\"127.55263157894736\" cy=\"81.68975854355924\" r=\"3\" fill=\"blue\"></circle><circle cx=\"135.3421052631579\" cy=\"166.5\" r=\"3\" fill=\"red\"></circle><circle cx=\"143.1315789473684\" cy=\"27.486666556292477\" r=\"3\" fill=\"blue\"></circle><circle cx=\"150.92105263157896\" cy=\"91.44041629159767\" r=\"3\" fill=\"blue\"></circle><circle cx=\"158.71052631578948\" cy=\"105.28719334412665\" r=\"3\" fill=\"blue\"></circle><circle cx=\"166.5\" cy=\"110.89738300605535\" r=\"3\" fill=\"red\"></circle><polygon points=\"-200,-234.29965742828279 385,229.3576998200005 385,384.6144756562917 -200,-79.0428815919916\" style=\"fill: rgba(0, 0, 0, 0.3);\"></polygon><line x1=\"0\" y1=\"78.3995020824914\" x2=\"185\" y2=\"78.3995020824914\" style=\"stroke: rgba(0, 0, 0, 0.1); stroke-width: 333.182px;\"></line><line x1=\"-200\" y1=\"-156.67126951013722\" x2=\"385\" y2=\"306.9860877381461\" style=\"stroke: rgba(0, 0, 0, 0.7); stroke-width: 2px;\"></line></svg></div><div data-v-2e966a4f=\"\"><svg data-v-2e966a4f=\"\" height=\"185\" width=\"185\" xmlns=\"http://www.w3.org/2000/svg\" xmlns:xlink=\"http://www.w3.org/1999/xlink\" version=\"1.1\"><circle cx=\"18.5\" cy=\"18.5\" r=\"3\" fill=\"blue\"></circle><circle cx=\"26.289473684210524\" cy=\"24.52007486590381\" r=\"3\" fill=\"blue\"></circle><circle cx=\"34.078947368421055\" cy=\"27.564840726345153\" r=\"3\" fill=\"blue\"></circle><circle cx=\"41.868421052631575\" cy=\"42.686442556926394\" r=\"3\" fill=\"blue\"></circle><circle cx=\"49.6578947368421\" cy=\"35.831731362971084\" r=\"3\" fill=\"blue\"></circle><circle cx=\"57.44736842105264\" cy=\"38.00067126933476\" r=\"3\" fill=\"blue\"></circle><circle cx=\"65.23684210526315\" cy=\"48.571879918899654\" r=\"3\" fill=\"blue\"></circle><circle cx=\"73.02631578947367\" cy=\"50.99055893432261\" r=\"3\" fill=\"blue\"></circle><circle cx=\"80.8157894736842\" cy=\"62.55204235695085\" r=\"3\" fill=\"blue\"></circle><circle cx=\"88.60526315789474\" cy=\"109.95324446473265\" r=\"3\" fill=\"blue\"></circle><circle cx=\"96.39473684210527\" cy=\"60.61742451235564\" r=\"3\" fill=\"blue\"></circle><circle cx=\"104.1842105263158\" cy=\"66.02217422425394\" r=\"3\" fill=\"blue\"></circle><circle cx=\"111.97368421052632\" cy=\"22.718788556765105\" r=\"3\" fill=\"blue\"></circle><circle cx=\"119.76315789473685\" cy=\"109.44644411290571\" r=\"3\" fill=\"blue\"></circle><circle cx=\"127.55263157894736\" cy=\"81.68975854355924\" r=\"3\" fill=\"blue\"></circle><circle cx=\"135.3421052631579\" cy=\"166.5\" r=\"3\" fill=\"blue\"></circle><circle cx=\"143.1315789473684\" cy=\"27.486666556292477\" r=\"3\" fill=\"blue\"></circle><circle cx=\"150.92105263157896\" cy=\"91.44041629159767\" r=\"3\" fill=\"blue\"></circle><circle cx=\"158.71052631578948\" cy=\"105.28719334412665\" r=\"3\" fill=\"blue\"></circle><circle cx=\"166.5\" cy=\"110.89738300605535\" r=\"3\" fill=\"blue\"></circle><polygon points=\"-200,-179.22326791295797 385,210.6500005244986 385,322.8014915303503 -200,-67.07177690710628\" style=\"fill: rgba(0, 0, 0, 0.3);\"></polygon><line x1=\"0\" y1=\"78.3995020824914\" x2=\"185\" y2=\"78.3995020824914\" style=\"stroke: rgba(0, 0, 0, 0.1); stroke-width: 333.182px;\"></line><line x1=\"-200\" y1=\"-123.14752241003208\" x2=\"385\" y2=\"266.7257460274244\" style=\"stroke: rgba(0, 0, 0, 0.7); stroke-width: 2px;\"></line></svg></div><div data-v-2e966a4f=\"\"><svg data-v-2e966a4f=\"\" height=\"185\" width=\"185\" xmlns=\"http://www.w3.org/2000/svg\" xmlns:xlink=\"http://www.w3.org/1999/xlink\" version=\"1.1\"><circle cx=\"18.5\" cy=\"18.5\" r=\"3\" fill=\"blue\"></circle><circle cx=\"26.289473684210524\" cy=\"24.52007486590381\" r=\"3\" fill=\"blue\"></circle><circle cx=\"34.078947368421055\" cy=\"27.564840726345153\" r=\"3\" fill=\"blue\"></circle><circle cx=\"41.868421052631575\" cy=\"42.686442556926394\" r=\"3\" fill=\"blue\"></circle><circle cx=\"49.6578947368421\" cy=\"35.831731362971084\" r=\"3\" fill=\"blue\"></circle><circle cx=\"57.44736842105264\" cy=\"38.00067126933476\" r=\"3\" fill=\"blue\"></circle><circle cx=\"65.23684210526315\" cy=\"48.571879918899654\" r=\"3\" fill=\"blue\"></circle><circle cx=\"73.02631578947367\" cy=\"50.99055893432261\" r=\"3\" fill=\"blue\"></circle><circle cx=\"80.8157894736842\" cy=\"62.55204235695085\" r=\"3\" fill=\"blue\"></circle><circle cx=\"88.60526315789474\" cy=\"109.95324446473265\" r=\"3\" fill=\"red\"></circle><circle cx=\"96.39473684210527\" cy=\"60.61742451235564\" r=\"3\" fill=\"blue\"></circle><circle cx=\"104.1842105263158\" cy=\"66.02217422425394\" r=\"3\" fill=\"blue\"></circle><circle cx=\"111.97368421052632\" cy=\"22.718788556765105\" r=\"3\" fill=\"red\"></circle><circle cx=\"119.76315789473685\" cy=\"109.44644411290571\" r=\"3\" fill=\"blue\"></circle><circle cx=\"127.55263157894736\" cy=\"81.68975854355924\" r=\"3\" fill=\"blue\"></circle><circle cx=\"135.3421052631579\" cy=\"166.5\" r=\"3\" fill=\"red\"></circle><circle cx=\"143.1315789473684\" cy=\"27.486666556292477\" r=\"3\" fill=\"blue\"></circle><circle cx=\"150.92105263157896\" cy=\"91.44041629159767\" r=\"3\" fill=\"blue\"></circle><circle cx=\"158.71052631578948\" cy=\"105.28719334412665\" r=\"3\" fill=\"blue\"></circle><circle cx=\"166.5\" cy=\"110.89738300605535\" r=\"3\" fill=\"blue\"></circle><polygon points=\"-200,-112.20495339112819 385,188.50322517594793 385,258.73862621561057 -200,-41.96955235146552\" style=\"fill: rgba(0, 0, 0, 0.3);\"></polygon><line x1=\"0\" y1=\"78.3995020824914\" x2=\"185\" y2=\"78.3995020824914\" style=\"stroke: rgba(0, 0, 0, 0.1); stroke-width: 333.182px;\"></line><line x1=\"-200\" y1=\"-77.08725287129684\" x2=\"385\" y2=\"223.62092569577925\" style=\"stroke: rgba(0, 0, 0, 0.7); stroke-width: 2px;\"></line></svg></div></div></div><style>body, html { margin-left: 0px; margin-right: 0px; }\n",
       "h1[data-v-2e966a4f] { font-family: Avenir, Helvetica, Arial, sans-serif; text-align: center; }\n",
       "#traces[data-v-2e966a4f] { display: flex; -moz-box-orient: horizontal; -moz-box-direction: normal; flex-flow: row wrap; }\n",
       "#app { font-family: Avenir, Helvetica, Arial, sans-serif; color: rgb(44, 62, 80); }</style>"
      ]
     },
     "metadata": {},
     "output_type": "display_data"
    },
    {
     "name": "stdout",
     "output_type": "stream",
     "text": [
      "Average log probability: -63.159134677588995\n"
     ]
    }
   ],
   "source": [
    "viz = Viz(server, joinpath(@__DIR__, \"../tutorials/regression-viz/dist\"), [xs])\n",
    "log_probs = Vector{Float64}(undef, 10)\n",
    "for i=1:10\n",
    "    (tr, _) = Gen.importance_resampling(model, (xs,), observations, 2000)\n",
    "    putTrace!(viz, \"t$(i)\", serialize_trace(tr))\n",
    "    log_probs[i] = Gen.get_score(tr)\n",
    "end\n",
    "displayInNotebook(viz)\n",
    "println(\"Average log probability: $(logmeanexp(log_probs))\")"
   ]
  },
  {
   "cell_type": "markdown",
   "metadata": {},
   "source": [
    "We see here that importance sampling hasn't completely failed: it generally finds a reasonable position for the line. But the details are off: there is little logic to the outlier classification, and the inferred noise around the line is too wide. The problem is that there are just too many variables to get right, and so sampling everything in one go is highly unlikely to produce a perfect hit.\n",
    "\n",
    "In the remainder of this notebook, we'll explore techniques for finding the right solution _iteratively_, beginning with an initial guess and making many small changes, until we achieve a reasonable posterior sample."
   ]
  },
  {
   "cell_type": "markdown",
   "metadata": {},
   "source": [
    "## 4. MCMC Inference  "
   ]
  },
  {
   "cell_type": "markdown",
   "metadata": {},
   "source": [
    "### 4.1 What is MCMC? <a name=\"mcmc-1\"></a>"
   ]
  },
  {
   "cell_type": "markdown",
   "metadata": {},
   "source": [
    "So far, we've only been sampling traces that were indepent of each other. Let's now iteratively build chains of such traces where an iteration brings us closer to a good explanation of observations. \n",
    "\n",
    "The general shape of an MCMC algorithm is as follows: \n",
    "- We begin by **sampling an intial setting of all unobserved variables**; in Gen, we produce an initial _trace_ consistent with (but not necessarily _probable_ given) our observations. \n",
    "- Then, in a long-running loop, **we make small, stochastic changes to the trace**; in order for the algorithm to be asymptotically correct, these stochastic updates must satisfy certain probabilistic properties. \n",
    "\n",
    "One common way of ensuring that the updates do satisfy those properties is to compute a  **Metropolis-Hastings acceptance ratio**. Essentially, after proposing a change to a trace, we add an \"accept or reject\" step that stochastically decides whether to commit the update or to revert it.\n",
    "\n",
    "Gen's `metropolis_hastings` function _automatically_ adds this \"accept/reject\" check (including the correct computation of the probability of acceptance or rejection)."
   ]
  },
  {
   "cell_type": "markdown",
   "metadata": {},
   "source": [
    "### 4. 2 Block Resimulation <a name=\"mcmc-2\"></a>"
   ]
  },
  {
   "cell_type": "markdown",
   "metadata": {},
   "source": [
    "One of the simplest strategies we can use is called Resimulation MH, and it works as follows.\n",
    "\n",
    "We begin, as in most iterative inference algorithms, by sampling an initial trace from our model, fixing the observed choices to their observed values.\n",
    "\n",
    "```julia\n",
    "# Gen's `initialize` function accepts a model, a tuple of arguments to the model,\n",
    "# and an Assignment representing observations (or constraints to satisfy). It returns\n",
    "# a complete trace consistent with the observations, and an importance weight.\n",
    "(tr, _) = initialize(model, (xs,), observations)\n",
    "```"
   ]
  },
  {
   "cell_type": "markdown",
   "metadata": {},
   "source": [
    "Then, in each iteration of our program, we propose changes to all our model's variables in \"blocks,\" by erasing a set of variables from our current trace and _resimulating_ them from the model. After resimulating each block of choices, we perform an accept/reject step, deciding whether the proposed changes are worth making. \n",
    "\n",
    "```julia\n",
    "# Pseudocode\n",
    "for iter=1:500\n",
    "    tr = maybe_update_block_1(tr)\n",
    "    tr = maybe_update_block_2(tr)\n",
    "    ...\n",
    "    tr = maybe_update_block_n(tr)\n",
    "end\n",
    "```\n",
    "\n",
    "For the regression problem, here is one possible blocking of choices:\n",
    "\n",
    "**Block 1: `slope`, `intercept`, and `noise`.** These parameters determine the linear relationship; resimulating them is like picking a new line. We know from our importance sampling experiment above that before too long, we're bound to sample something close to the right line.\n",
    "\n",
    "**Blocks 2 through N+1: Each `is_outlier`, in its own block.** One problem we saw with importance sampling in this problem was that it tried to sample _every_ outlier classification at once, when in reality the chances of a single sample that correctly classifies all the points are very low. Here, we can choose to resimulate each `is_outlier` choice separately, and for each one, decide whether to use the resimulated value or not.\n",
    "\n",
    "**Block N+2: `prob_outlier`.** Finally, we can propose a new `prob_outlier` value; in general, we can expect to accept the proposal when it is line with the current hypothesized proportion of `is_outlier` choices that are set to `true`."
   ]
  },
  {
   "cell_type": "code",
   "execution_count": 10,
   "metadata": {},
   "outputs": [],
   "source": [
    "# Perform a single block resimulation update of a trace.\n",
    "function block_resimulation_update(tr)\n",
    "    # Block 1: Update the line's parameters\n",
    "    line_params = select(:noise, :slope, :intercept)\n",
    "    (tr, _) = mh(tr, line_params)\n",
    "    \n",
    "    # Blocks 2-N+1: Update the outlier classifications\n",
    "    (xs,) = get_args(tr)\n",
    "    n = length(xs)\n",
    "    for i=1:n\n",
    "        (tr, _) = mh(tr, select(:data => i => :is_outlier))\n",
    "    end\n",
    "    \n",
    "    # Block N+2: Update the prob_outlier parameter\n",
    "    (tr, _) = mh(tr, select(:prob_outlier))\n",
    "    \n",
    "    # Return the updated trace\n",
    "    tr\n",
    "end;"
   ]
  },
  {
   "cell_type": "markdown",
   "metadata": {},
   "source": [
    "All that's left is to (a) obtain an initial trace, and then (b) run that update in a loop for as long as we'd like:"
   ]
  },
  {
   "cell_type": "code",
   "execution_count": 11,
   "metadata": {},
   "outputs": [],
   "source": [
    "function block_resimulation_inference(xs, ys)\n",
    "    observations = make_constraints(ys)\n",
    "    (tr, _) = generate(model, (xs,), observations)\n",
    "    for iter=1:500\n",
    "        tr = block_resimulation_update(tr)\n",
    "    end\n",
    "    tr\n",
    "end;"
   ]
  },
  {
   "cell_type": "markdown",
   "metadata": {},
   "source": [
    "Let's test it out:"
   ]
  },
  {
   "cell_type": "code",
   "execution_count": 12,
   "metadata": {},
   "outputs": [
    {
     "name": "stdout",
     "output_type": "stream",
     "text": [
      "  3.614930 seconds (9.69 M allocations: 890.178 MiB, 8.09% gc time)\n",
      "  2.147976 seconds (9.15 M allocations: 862.804 MiB, 10.82% gc time)\n",
      "  1.996847 seconds (9.15 M allocations: 862.805 MiB, 12.05% gc time)\n",
      "  1.900715 seconds (9.15 M allocations: 862.804 MiB, 11.61% gc time)\n",
      "  2.119700 seconds (9.15 M allocations: 862.805 MiB, 10.57% gc time)\n",
      "  1.702746 seconds (9.15 M allocations: 862.805 MiB, 12.15% gc time)\n",
      "  1.858250 seconds (9.15 M allocations: 862.803 MiB, 10.84% gc time)\n",
      "  1.956809 seconds (9.15 M allocations: 862.804 MiB, 10.95% gc time)\n",
      "  1.876212 seconds (9.15 M allocations: 862.804 MiB, 11.18% gc time)\n",
      "  1.694434 seconds (9.15 M allocations: 862.804 MiB, 11.46% gc time)\n",
      "Log probability: -48.7430917400902\n"
     ]
    }
   ],
   "source": [
    "scores = Vector{Float64}(undef, 10)\n",
    "for i=1:10\n",
    "    @time tr = block_resimulation_inference(xs, ys)\n",
    "    scores[i] = get_score(tr)\n",
    "end\n",
    "println(\"Log probability: \", logmeanexp(scores))"
   ]
  },
  {
   "cell_type": "markdown",
   "metadata": {},
   "source": [
    "We note that this is **significantly better than importance sampling**, even if we run importance sampling for about the same amount of (wall-clock) time per sample:"
   ]
  },
  {
   "cell_type": "code",
   "execution_count": 13,
   "metadata": {},
   "outputs": [
    {
     "name": "stdout",
     "output_type": "stream",
     "text": [
      "  3.218261 seconds (12.21 M allocations: 1.204 GiB, 11.75% gc time)\n",
      "  2.558897 seconds (12.21 M allocations: 1.204 GiB, 10.97% gc time)\n",
      "  3.560484 seconds (12.21 M allocations: 1.204 GiB, 10.50% gc time)\n",
      "  2.845274 seconds (12.21 M allocations: 1.204 GiB, 12.43% gc time)\n",
      "  2.426851 seconds (12.21 M allocations: 1.204 GiB, 12.83% gc time)\n",
      "  2.433463 seconds (12.21 M allocations: 1.204 GiB, 12.06% gc time)\n",
      "  2.361190 seconds (12.21 M allocations: 1.204 GiB, 11.56% gc time)\n",
      "  2.484075 seconds (12.21 M allocations: 1.204 GiB, 11.51% gc time)\n",
      "  2.306404 seconds (12.21 M allocations: 1.204 GiB, 13.32% gc time)\n",
      "  2.411526 seconds (12.21 M allocations: 1.204 GiB, 11.99% gc time)\n",
      "Log probability: -65.28199934822558\n"
     ]
    }
   ],
   "source": [
    "scores = Vector{Float64}(undef, 10)\n",
    "for i=1:10\n",
    "    @time (tr, _) = importance_resampling(model, (xs,), observations, 17000)\n",
    "    scores[i] = get_score(tr)\n",
    "end\n",
    "println(\"Log probability: \", logmeanexp(scores))"
   ]
  },
  {
   "cell_type": "markdown",
   "metadata": {},
   "source": [
    "It's one thing to see a log probability increase; it's better to understand what the inference algorithm is actually doing, and to see _why_ it's doing better.\n",
    "\n",
    "A great tool for debugging and improving MCMC algorithms is visualization. We can use GenViz's `displayInNotebook(viz) do ... end` syntax to produce an animated visualization:"
   ]
  },
  {
   "cell_type": "code",
   "execution_count": 14,
   "metadata": {
    "scrolled": false
   },
   "outputs": [
    {
     "data": {
      "text/html": [
       "<div data-v-2e966a4f=\"\"><h1 data-v-2e966a4f=\"\">Traces</h1><div data-v-2e966a4f=\"\" id=\"traces\"><div data-v-2e966a4f=\"\"><svg data-v-2e966a4f=\"\" height=\"500\" width=\"500\" xmlns=\"http://www.w3.org/2000/svg\" xmlns:xlink=\"http://www.w3.org/1999/xlink\" version=\"1.1\"><circle cx=\"50\" cy=\"50\" r=\"3\" fill=\"blue\"></circle><circle cx=\"71.05263157894737\" cy=\"66.27047261055083\" r=\"3\" fill=\"blue\"></circle><circle cx=\"92.10526315789474\" cy=\"74.49956953066254\" r=\"3\" fill=\"blue\"></circle><circle cx=\"113.15789473684211\" cy=\"115.36876366736863\" r=\"3\" fill=\"blue\"></circle><circle cx=\"134.21052631578948\" cy=\"96.84251719721914\" r=\"3\" fill=\"blue\"></circle><circle cx=\"155.26315789473688\" cy=\"102.704516944148\" r=\"3\" fill=\"blue\"></circle><circle cx=\"176.31578947368422\" cy=\"131.27535113216123\" r=\"3\" fill=\"blue\"></circle><circle cx=\"197.36842105263156\" cy=\"137.81232144411513\" r=\"3\" fill=\"blue\"></circle><circle cx=\"218.42105263157893\" cy=\"169.059573937705\" r=\"3\" fill=\"blue\"></circle><circle cx=\"239.4736842105263\" cy=\"297.1709309857639\" r=\"3\" fill=\"blue\"></circle><circle cx=\"260.52631578947376\" cy=\"163.83087706042068\" r=\"3\" fill=\"blue\"></circle><circle cx=\"281.57894736842104\" cy=\"178.43830871419988\" r=\"3\" fill=\"blue\"></circle><circle cx=\"302.63157894736844\" cy=\"61.4021312345003\" r=\"3\" fill=\"blue\"></circle><circle cx=\"323.6842105263158\" cy=\"295.8012003051506\" r=\"3\" fill=\"blue\"></circle><circle cx=\"344.7368421052631\" cy=\"220.78313119880875\" r=\"3\" fill=\"blue\"></circle><circle cx=\"365.7894736842105\" cy=\"450\" r=\"3\" fill=\"red\"></circle><circle cx=\"386.84210526315786\" cy=\"74.28828798997966\" r=\"3\" fill=\"red\"></circle><circle cx=\"407.89473684210526\" cy=\"247.13626024756127\" r=\"3\" fill=\"blue\"></circle><circle cx=\"428.9473684210526\" cy=\"284.5599820111531\" r=\"3\" fill=\"blue\"></circle><circle cx=\"450\" cy=\"299.7226567731226\" r=\"3\" fill=\"blue\"></circle><polygon points=\"-200,-179.74670714354227 700,287.74549427916975 700,495.73464901844034 -200,28.24244759572821\" style=\"fill: rgba(0, 0, 0, 0.3);\"></polygon><line x1=\"0\" y1=\"211.89054616889567\" x2=\"500\" y2=\"211.89054616889567\" style=\"stroke: rgba(0, 0, 0, 0.1); stroke-width: 900.493px;\"></line><line x1=\"-200\" y1=\"-75.75212977390709\" x2=\"700\" y2=\"391.740071648805\" style=\"stroke: rgba(0, 0, 0, 0.7); stroke-width: 2px;\"></line></svg></div></div></div><style>body, html { margin-left: 0px; margin-right: 0px; }\n",
       "h1[data-v-2e966a4f] { font-family: Avenir, Helvetica, Arial, sans-serif; text-align: center; }\n",
       "#traces[data-v-2e966a4f] { display: flex; -moz-box-orient: horizontal; -moz-box-direction: normal; flex-flow: row wrap; }\n",
       "#app { font-family: Avenir, Helvetica, Arial, sans-serif; color: rgb(44, 62, 80); }</style>"
      ]
     },
     "metadata": {},
     "output_type": "display_data"
    }
   ],
   "source": [
    "viz = Viz(server, joinpath(@__DIR__, \"../tutorials/regression-viz/dist\"), [xs, ys])\n",
    "Random.seed!(2)\n",
    "displayInNotebook(viz) do\n",
    "    (tr, _) = generate(model, (xs,), observations)\n",
    "    putTrace!(viz, \"t\", serialize_trace(tr))\n",
    "    for iter = 1:500\n",
    "        tr = block_resimulation_update(tr)\n",
    "        \n",
    "        # Visualize and sleep for clearer animation\n",
    "        putTrace!(viz, \"t\", serialize_trace(tr))\n",
    "        sleep(0.1)\n",
    "    end\n",
    "end"
   ]
  },
  {
   "cell_type": "markdown",
   "metadata": {},
   "source": [
    "### 4.3 Gaussian Drift MH  <a name=\"mcmc-3\"></a>"
   ]
  },
  {
   "cell_type": "markdown",
   "metadata": {},
   "source": [
    "So far, we've seen one form of incremental trace update:\n",
    "\n",
    "```julia\n",
    "(tr, did_accept) = mh(tr, select(:address1, :address2, ...))\n",
    "```\n",
    "\n",
    "This update is incremental in that it only proposes changes to part of a trace (the selected addresses). But when computing _what_ changes to propose, it ignores the current state completely and resimulates all-new values from the model.\n",
    "\n",
    "That wholesale resimulation of values is often not the best way to search for improvements. To that end, Gen also offers a more general flavor of MH:\n",
    "\n",
    "```julia\n",
    "(tr, did_accept) = mh(tr, custom_proposal, custom_proposal_args)\n",
    "```\n",
    "\n",
    "A \"custom proposal\" is just what it sounds like: whereas before, we were using the _default resimulation proposal_ to come up with new values for the selected addresses, we can now pass in a generative function that samples proposed values however it wants.\n",
    "\n",
    "For example, here is a custom proposal that takes in a current trace, and proposes a new slope and intercept by randomly perturbing the existing values:"
   ]
  },
  {
   "cell_type": "code",
   "execution_count": 15,
   "metadata": {},
   "outputs": [],
   "source": [
    "@gen function line_proposal(trace)\n",
    "    choices = get_choices(trace)\n",
    "    slope = @trace(normal(choices[:slope], 0.5), :slope)\n",
    "    intercept = @trace(normal(choices[:intercept], 0.5), :intercept)\n",
    "end;"
   ]
  },
  {
   "cell_type": "markdown",
   "metadata": {},
   "source": [
    "This is often called a **\"Gaussian drift\" proposal**, because it essentially amounts to proposing steps of a random walk. (What makes it different from a random walk is that we will still use an MH accept/reject step to make sure we don't wander into areas of very low probability.)"
   ]
  },
  {
   "cell_type": "markdown",
   "metadata": {},
   "source": [
    "To use the proposal, we write:\n",
    "\n",
    "```julia\n",
    "(tr, did_accept) = mh(tr, line_proposal, ())\n",
    "```"
   ]
  },
  {
   "cell_type": "markdown",
   "metadata": {},
   "source": [
    "Let's swap it into our update:"
   ]
  },
  {
   "cell_type": "code",
   "execution_count": 16,
   "metadata": {},
   "outputs": [
    {
     "data": {
      "text/plain": [
       "\"function block_resimulation_update(tr)\\n    # Block 1: Update the line's parameters\\n    line_params = select(:noise, :slope, :intercept)\\n    (tr, _) = mh(tr, line_params)\\n    \\n    # Blocks 2-N+1: Update the outlier classifications\\n    (xs,) = get_args(tr)\\n    n = length(xs)\\n    for i=1:n\\n        (tr, _) = mh(tr, select(:data => i => :is_outlier))\\n    end\\n    \\n    # Block N+2: Update the prob_outlier parameter\\n    (tr, _) = mh(tr, select(:prob_outlier))\\n    \\n    # Return the updated trace\\n    tr\\nend;\""
      ]
     },
     "execution_count": 16,
     "metadata": {},
     "output_type": "execute_result"
    }
   ],
   "source": [
    "function gaussian_drift_update(tr)\n",
    "    # Block 1: Gaussian drift on line params\n",
    "    (tr, _) = mh(tr, line_proposal, ())\n",
    "    \n",
    "    # Block 2-N+1: Update the outlier classifications\n",
    "    (xs,) = get_args(tr)\n",
    "    n = length(xs)\n",
    "    for i=1:n\n",
    "        (tr, _) = mh(tr, select(:data => i => :is_outlier))\n",
    "    end\n",
    "    \n",
    "    # Block N+2: Update the prob_outlier parameter\n",
    "    (tr, w) = mh(tr, select(:prob_outlier))\n",
    "    (tr, w) = mh(tr, select(:noise))\n",
    "    tr\n",
    "end;\n",
    "\n",
    "\n",
    "# Only FYI: This is the old inference scheme:\n",
    "\"\"\"function block_resimulation_update(tr)\n",
    "    # Block 1: Update the line's parameters\n",
    "    line_params = select(:noise, :slope, :intercept)\n",
    "    (tr, _) = mh(tr, line_params)\n",
    "    \n",
    "    # Blocks 2-N+1: Update the outlier classifications\n",
    "    (xs,) = get_args(tr)\n",
    "    n = length(xs)\n",
    "    for i=1:n\n",
    "        (tr, _) = mh(tr, select(:data => i => :is_outlier))\n",
    "    end\n",
    "    \n",
    "    # Block N+2: Update the prob_outlier parameter\n",
    "    (tr, _) = mh(tr, select(:prob_outlier))\n",
    "    \n",
    "    # Return the updated trace\n",
    "    tr\n",
    "end;\"\"\""
   ]
  },
  {
   "cell_type": "markdown",
   "metadata": {},
   "source": [
    "If we compare the Gaussian Drift proposal visually with our old algorithm, we can see how the new behavior helps:"
   ]
  },
  {
   "cell_type": "code",
   "execution_count": 17,
   "metadata": {
    "scrolled": false
   },
   "outputs": [
    {
     "data": {
      "text/html": [
       "<div data-v-2e966a4f=\"\"><h1 data-v-2e966a4f=\"\">Traces</h1><div data-v-2e966a4f=\"\" id=\"traces\"><div data-v-2e966a4f=\"\"><svg data-v-2e966a4f=\"\" height=\"0\" width=\"0\" xmlns=\"http://www.w3.org/2000/svg\" xmlns:xlink=\"http://www.w3.org/1999/xlink\" version=\"1.1\"><circle cx=\"0\" cy=\"0\" r=\"3\" fill=\"blue\"></circle><circle cx=\"0\" cy=\"0\" r=\"3\" fill=\"blue\"></circle><circle cx=\"0\" cy=\"0\" r=\"3\" fill=\"blue\"></circle><circle cx=\"0\" cy=\"0\" r=\"3\" fill=\"red\"></circle><circle cx=\"0\" cy=\"0\" r=\"3\" fill=\"blue\"></circle><circle cx=\"0\" cy=\"0\" r=\"3\" fill=\"blue\"></circle><circle cx=\"0\" cy=\"0\" r=\"3\" fill=\"blue\"></circle><circle cx=\"0\" cy=\"0\" r=\"3\" fill=\"blue\"></circle><circle cx=\"0\" cy=\"0\" r=\"3\" fill=\"red\"></circle><circle cx=\"0\" cy=\"0\" r=\"3\" fill=\"red\"></circle><circle cx=\"0\" cy=\"0\" r=\"3\" fill=\"blue\"></circle><circle cx=\"0\" cy=\"0\" r=\"3\" fill=\"blue\"></circle><circle cx=\"0\" cy=\"0\" r=\"3\" fill=\"red\"></circle><circle cx=\"0\" cy=\"0\" r=\"3\" fill=\"red\"></circle><circle cx=\"0\" cy=\"0\" r=\"3\" fill=\"blue\"></circle><circle cx=\"0\" cy=\"0\" r=\"3\" fill=\"red\"></circle><circle cx=\"0\" cy=\"0\" r=\"3\" fill=\"red\"></circle><circle cx=\"0\" cy=\"0\" r=\"3\" fill=\"blue\"></circle><circle cx=\"0\" cy=\"0\" r=\"3\" fill=\"blue\"></circle><circle cx=\"0\" cy=\"0\" r=\"3\" fill=\"red\"></circle><polygon points=\"-200,NaN 200,NaN 200,NaN -200,NaN\" style=\"fill: rgba(0, 0, 0, 0.3);\"></polygon><line x1=\"0\" y1=\"0\" x2=\"0\" y2=\"0\" style=\"stroke: rgba(0, 0, 0, 0.1); stroke-width: 0px;\"></line><line x1=\"-200\" y1=\"NaN\" x2=\"200\" y2=\"NaN\" style=\"stroke: rgba(0, 0, 0, 0.7); stroke-width: 2px;\"></line></svg></div><div data-v-2e966a4f=\"\"><svg data-v-2e966a4f=\"\" height=\"0\" width=\"0\" xmlns=\"http://www.w3.org/2000/svg\" xmlns:xlink=\"http://www.w3.org/1999/xlink\" version=\"1.1\"><circle cx=\"0\" cy=\"0\" r=\"3\" fill=\"blue\"></circle><circle cx=\"0\" cy=\"0\" r=\"3\" fill=\"blue\"></circle><circle cx=\"0\" cy=\"0\" r=\"3\" fill=\"blue\"></circle><circle cx=\"0\" cy=\"0\" r=\"3\" fill=\"blue\"></circle><circle cx=\"0\" cy=\"0\" r=\"3\" fill=\"blue\"></circle><circle cx=\"0\" cy=\"0\" r=\"3\" fill=\"blue\"></circle><circle cx=\"0\" cy=\"0\" r=\"3\" fill=\"blue\"></circle><circle cx=\"0\" cy=\"0\" r=\"3\" fill=\"blue\"></circle><circle cx=\"0\" cy=\"0\" r=\"3\" fill=\"blue\"></circle><circle cx=\"0\" cy=\"0\" r=\"3\" fill=\"red\"></circle><circle cx=\"0\" cy=\"0\" r=\"3\" fill=\"red\"></circle><circle cx=\"0\" cy=\"0\" r=\"3\" fill=\"blue\"></circle><circle cx=\"0\" cy=\"0\" r=\"3\" fill=\"red\"></circle><circle cx=\"0\" cy=\"0\" r=\"3\" fill=\"red\"></circle><circle cx=\"0\" cy=\"0\" r=\"3\" fill=\"blue\"></circle><circle cx=\"0\" cy=\"0\" r=\"3\" fill=\"red\"></circle><circle cx=\"0\" cy=\"0\" r=\"3\" fill=\"red\"></circle><circle cx=\"0\" cy=\"0\" r=\"3\" fill=\"blue\"></circle><circle cx=\"0\" cy=\"0\" r=\"3\" fill=\"blue\"></circle><circle cx=\"0\" cy=\"0\" r=\"3\" fill=\"blue\"></circle><polygon points=\"-200,NaN 200,NaN 200,NaN -200,NaN\" style=\"fill: rgba(0, 0, 0, 0.3);\"></polygon><line x1=\"0\" y1=\"0\" x2=\"0\" y2=\"0\" style=\"stroke: rgba(0, 0, 0, 0.1); stroke-width: 0px;\"></line><line x1=\"-200\" y1=\"NaN\" x2=\"200\" y2=\"NaN\" style=\"stroke: rgba(0, 0, 0, 0.7); stroke-width: 2px;\"></line></svg></div></div></div><style>body, html { margin-left: 0px; margin-right: 0px; }\n",
       "h1[data-v-2e966a4f] { font-family: Avenir, Helvetica, Arial, sans-serif; text-align: center; }\n",
       "#traces[data-v-2e966a4f] { display: flex; -moz-box-orient: horizontal; -moz-box-direction: normal; flex-flow: row wrap; }\n",
       "#app { font-family: Avenir, Helvetica, Arial, sans-serif; color: rgb(44, 62, 80); }</style>"
      ]
     },
     "metadata": {},
     "output_type": "display_data"
    }
   ],
   "source": [
    "viz = Viz(server, joinpath(@__DIR__, \"../tutorials/regression-viz/dist\"), [xs, ys])\n",
    "\n",
    "# Set random seed for a reproducible animation\n",
    "Random.seed!(30)\n",
    "\n",
    "# Create the animation\n",
    "displayInNotebook(viz) do\n",
    "    # Get an initial trace\n",
    "    (tr1, _) = generate(model, (xs,), observations)\n",
    "    tr2 = tr1\n",
    "    \n",
    "    # Visualize the initial trace twice\n",
    "    putTrace!(viz, 1, serialize_trace(tr1))\n",
    "    putTrace!(viz, 2, serialize_trace(tr2))\n",
    "    sleep(1)\n",
    "    \n",
    "    # Improve both traces\n",
    "    for iter = 1:400\n",
    "        # Gaussian drift update in trace 1\n",
    "        tr1 = gaussian_drift_update(tr1)\n",
    "        # Block resimulation update in trace 2\n",
    "        tr2 = block_resimulation_update(tr2)\n",
    "        \n",
    "        # Visualize and sleep for clearer animation\n",
    "        putTrace!(viz, 1, serialize_trace(tr1))\n",
    "        putTrace!(viz, 2, serialize_trace(tr2))\n",
    "        sleep(0.02)\n",
    "    end\n",
    "end"
   ]
  },
  {
   "cell_type": "markdown",
   "metadata": {},
   "source": [
    "<hr />"
   ]
  },
  {
   "cell_type": "markdown",
   "metadata": {},
   "source": [
    "A more quantitative comparison demonstrates that our change has definitely improved our inference quality:"
   ]
  },
  {
   "cell_type": "code",
   "execution_count": 24,
   "metadata": {},
   "outputs": [
    {
     "name": "stdout",
     "output_type": "stream",
     "text": [
      "  1.852348 seconds (9.70 M allocations: 916.279 MiB, 16.85% gc time)\n",
      "  3.198193 seconds (9.70 M allocations: 916.279 MiB, 11.89% gc time)\n",
      "  3.411584 seconds (9.70 M allocations: 916.281 MiB, 11.69% gc time)\n",
      "  2.930922 seconds (9.70 M allocations: 916.280 MiB, 12.73% gc time)\n",
      "  2.800965 seconds (9.70 M allocations: 916.280 MiB, 11.79% gc time)\n",
      "  3.462290 seconds (9.70 M allocations: 916.280 MiB, 11.03% gc time)\n",
      "  3.305600 seconds (9.70 M allocations: 916.280 MiB, 11.94% gc time)\n",
      "  3.623995 seconds (9.70 M allocations: 916.279 MiB, 10.79% gc time)\n",
      "  3.159080 seconds (9.70 M allocations: 916.279 MiB, 11.67% gc time)\n",
      "  2.056447 seconds (9.70 M allocations: 916.281 MiB, 13.12% gc time)\n",
      "Log probability: -45.87018354537137\n"
     ]
    }
   ],
   "source": [
    "Random.seed!(1)\n",
    "function gaussian_drift_inference()\n",
    "    (tr, _) = generate(model, (xs,), observations)\n",
    "    for iter=1:500\n",
    "        tr = gaussian_drift_update(tr)\n",
    "    end\n",
    "    tr\n",
    "end\n",
    "\n",
    "scores = Vector{Float64}(undef, 10)\n",
    "for i=1:10\n",
    "    @time tr = gaussian_drift_inference()\n",
    "    scores[i] = get_score(tr)\n",
    "end\n",
    "println(\"Log probability: \", logmeanexp(scores))"
   ]
  },
  {
   "cell_type": "code",
   "execution_count": 25,
   "metadata": {},
   "outputs": [
    {
     "ename": "LoadError",
     "evalue": "syntax: \"<\" is not a unary operator",
     "output_type": "error",
     "traceback": [
      "syntax: \"<\" is not a unary operator",
      ""
     ]
    }
   ],
   "source": [
    "<hr />"
   ]
  },
  {
   "cell_type": "markdown",
   "metadata": {},
   "source": [
    "### 4.4 Data-driven proposals: heuristics to guide the process  <a name=\"mcmc-4\"></a>"
   ]
  },
  {
   "cell_type": "markdown",
   "metadata": {},
   "source": [
    "In this section, we'll look at another strategy for improving MCMC inference: using arbitrary heuristics to make smarter proposals. In particular, we'll use a method called \"Random Sample Consensus\" (or RANSAC) to quickly find promising settings of the slope and intercept parameters.\n",
    "\n",
    "RANSAC works as follows:\n",
    "1. We repeatedly choose a small random subset of the points, say, of size 3.\n",
    "2. We do least-squares linear regression to find a line of best fit for those points.\n",
    "3. We count how many points (from the entire set) are near the line we found.\n",
    "4. After a suitable number of iterations (say, 10), we return the line that had the highest score.\n",
    "\n",
    "Here's our implementation of the algorithm in Julia:"
   ]
  },
  {
   "cell_type": "code",
   "execution_count": 19,
   "metadata": {},
   "outputs": [],
   "source": [
    "import StatsBase\n",
    "\n",
    "struct RANSACParams\n",
    "    # the number of random subsets to try\n",
    "    iters::Int\n",
    "\n",
    "    # the number of points to use to construct a hypothesis\n",
    "    subset_size::Int\n",
    "\n",
    "    # the error threshold below which a datum is considered an inlier\n",
    "    eps::Float64\n",
    "    \n",
    "    function RANSACParams(iters, subset_size, eps)\n",
    "        if iters < 1\n",
    "            error(\"iters < 1\")\n",
    "        end\n",
    "        new(iters, subset_size, eps)\n",
    "    end\n",
    "end\n",
    "\n",
    "\n",
    "function ransac(xs::Vector{Float64}, ys::Vector{Float64}, params::RANSACParams)\n",
    "    best_num_inliers::Int = -1\n",
    "    best_slope::Float64 = NaN\n",
    "    best_intercept::Float64 = NaN\n",
    "    for i=1:params.iters\n",
    "        # select a random subset of points\n",
    "        rand_ind = StatsBase.sample(1:length(xs), params.subset_size, replace=false)\n",
    "        subset_xs = xs[rand_ind]\n",
    "        subset_ys = ys[rand_ind]\n",
    "        \n",
    "        # estimate slope and intercept using least squares\n",
    "        A = hcat(subset_xs, ones(length(subset_xs)))\n",
    "        slope, intercept = A\\subset_ys\n",
    "        \n",
    "        ypred = intercept .+ slope * xs\n",
    "\n",
    "        # count the number of inliers for this (slope, intercept) hypothesis\n",
    "        inliers = abs.(ys - ypred) .< params.eps\n",
    "        num_inliers = sum(inliers)\n",
    "\n",
    "        if num_inliers > best_num_inliers\n",
    "            best_slope, best_intercept = slope, intercept\n",
    "            best_num_inliers = num_inliers\n",
    "        end\n",
    "    end\n",
    "\n",
    "    # return the hypothesis that resulted in the most inliers\n",
    "    (best_slope, best_intercept)\n",
    "end;"
   ]
  },
  {
   "cell_type": "markdown",
   "metadata": {},
   "source": [
    "We can now wrap it in a Gen proposal that calls out to RANSAC, then samples a slope and intercept near the one it proposed."
   ]
  },
  {
   "cell_type": "code",
   "execution_count": 20,
   "metadata": {},
   "outputs": [],
   "source": [
    "@gen function ransac_proposal(prev_trace, xs, ys)\n",
    "    (slope, intercept) = ransac(xs, ys, RANSACParams(10, 3, 1.))\n",
    "    @trace(normal(slope, 0.1), :slope)\n",
    "    @trace(normal(intercept, 1.0), :intercept)\n",
    "end;"
   ]
  },
  {
   "cell_type": "markdown",
   "metadata": {},
   "source": [
    "One iteration of our update algorithm will now look like this:"
   ]
  },
  {
   "cell_type": "code",
   "execution_count": 21,
   "metadata": {},
   "outputs": [],
   "source": [
    "function ransac_update(tr)\n",
    "    # Use RANSAC to (potentially) jump to a better line from wherever we are\n",
    "    (tr, _) = mh(tr, ransac_proposal, (xs, ys))\n",
    "    \n",
    "    # Spend a while refining the parameters, using Gaussian drift\n",
    "    # to tune the slope and intercept, and resimulation for the noise\n",
    "    # and outliers.\n",
    "    for j=1:20\n",
    "        (tr, _) = mh(tr, select(:prob_outlier))\n",
    "        (tr, _) = mh(tr, select(:noise))\n",
    "        (tr, _) = mh(tr, line_proposal, ())\n",
    "        # Reclassify outliers\n",
    "        for i=1:length(get_args(tr)[1])\n",
    "            (tr, _) = mh(tr, select(:data => i => :is_outlier))\n",
    "        end\n",
    "    end\n",
    "    tr\n",
    "end;"
   ]
  },
  {
   "cell_type": "markdown",
   "metadata": {},
   "source": [
    "We can now run our main loop for just 5 iterations, and achieve pretty good results. (Of course, since we do 20 inner loop iterations in `ransac_update`, this is really closer to 100 iterations.) The running time is significantly lower than before, without a real dip in quality:"
   ]
  },
  {
   "cell_type": "code",
   "execution_count": 22,
   "metadata": {},
   "outputs": [
    {
     "name": "stdout",
     "output_type": "stream",
     "text": [
      "  1.368805 seconds (2.25 M allocations: 206.906 MiB, 7.12% gc time)\n",
      "  0.345814 seconds (1.95 M allocations: 191.984 MiB, 14.14% gc time)\n",
      "  0.340267 seconds (1.95 M allocations: 191.984 MiB, 18.26% gc time)\n",
      "  0.338231 seconds (1.95 M allocations: 191.984 MiB, 17.04% gc time)\n",
      "  0.385939 seconds (1.95 M allocations: 191.984 MiB, 18.39% gc time)\n",
      "  0.352766 seconds (1.95 M allocations: 191.984 MiB, 14.94% gc time)\n",
      "  0.684405 seconds (1.95 M allocations: 191.984 MiB, 12.13% gc time)\n",
      "  0.814702 seconds (1.95 M allocations: 191.984 MiB, 13.09% gc time)\n",
      "  0.628896 seconds (1.95 M allocations: 191.984 MiB, 15.33% gc time)\n",
      "  0.398537 seconds (1.95 M allocations: 191.983 MiB, 14.79% gc time)\n",
      "Log probability: -47.2627614835285\n"
     ]
    }
   ],
   "source": [
    "function ransac_inference()\n",
    "    (slope, intercept) = ransac(xs, ys, RANSACParams(10, 3, 1.))\n",
    "    slope_intercept_init = choicemap()\n",
    "    slope_intercept_init[:slope] = slope\n",
    "    slope_intercept_init[:intercept] = intercept\n",
    "    (tr, _) = generate(model, (xs,), merge(observations, slope_intercept_init))\n",
    "    for iter=1:5\n",
    "        tr = ransac_update(tr)\n",
    "    end\n",
    "    tr\n",
    "end\n",
    "\n",
    "scores = Vector{Float64}(undef, 10)\n",
    "for i=1:10\n",
    "    @time tr = ransac_inference()\n",
    "    scores[i] = get_score(tr)\n",
    "end\n",
    "println(\"Log probability: \", logmeanexp(scores))"
   ]
  },
  {
   "cell_type": "markdown",
   "metadata": {},
   "source": [
    "Let's visualize the algorithm:"
   ]
  },
  {
   "cell_type": "code",
   "execution_count": 28,
   "metadata": {
    "scrolled": false
   },
   "outputs": [
    {
     "data": {
      "text/html": [
       "<div data-v-2e966a4f=\"\"><h1 data-v-2e966a4f=\"\">Traces</h1><div data-v-2e966a4f=\"\" id=\"traces\"><div data-v-2e966a4f=\"\"><svg data-v-2e966a4f=\"\" height=\"500\" width=\"500\" xmlns=\"http://www.w3.org/2000/svg\" xmlns:xlink=\"http://www.w3.org/1999/xlink\" version=\"1.1\"><circle cx=\"50\" cy=\"50\" r=\"3\" fill=\"blue\"></circle><circle cx=\"71.05263157894737\" cy=\"66.27047261055083\" r=\"3\" fill=\"blue\"></circle><circle cx=\"92.10526315789474\" cy=\"74.49956953066254\" r=\"3\" fill=\"blue\"></circle><circle cx=\"113.15789473684211\" cy=\"115.36876366736863\" r=\"3\" fill=\"blue\"></circle><circle cx=\"134.21052631578948\" cy=\"96.84251719721914\" r=\"3\" fill=\"blue\"></circle><circle cx=\"155.26315789473688\" cy=\"102.704516944148\" r=\"3\" fill=\"blue\"></circle><circle cx=\"176.31578947368422\" cy=\"131.27535113216123\" r=\"3\" fill=\"blue\"></circle><circle cx=\"197.36842105263156\" cy=\"137.81232144411513\" r=\"3\" fill=\"blue\"></circle><circle cx=\"218.42105263157893\" cy=\"169.059573937705\" r=\"3\" fill=\"blue\"></circle><circle cx=\"239.4736842105263\" cy=\"297.1709309857639\" r=\"3\" fill=\"red\"></circle><circle cx=\"260.52631578947376\" cy=\"163.83087706042068\" r=\"3\" fill=\"blue\"></circle><circle cx=\"281.57894736842104\" cy=\"178.43830871419988\" r=\"3\" fill=\"blue\"></circle><circle cx=\"302.63157894736844\" cy=\"61.4021312345003\" r=\"3\" fill=\"red\"></circle><circle cx=\"323.6842105263158\" cy=\"295.8012003051506\" r=\"3\" fill=\"red\"></circle><circle cx=\"344.7368421052631\" cy=\"220.78313119880875\" r=\"3\" fill=\"blue\"></circle><circle cx=\"365.7894736842105\" cy=\"450\" r=\"3\" fill=\"red\"></circle><circle cx=\"386.84210526315786\" cy=\"74.28828798997966\" r=\"3\" fill=\"red\"></circle><circle cx=\"407.89473684210526\" cy=\"247.13626024756127\" r=\"3\" fill=\"blue\"></circle><circle cx=\"428.9473684210526\" cy=\"284.5599820111531\" r=\"3\" fill=\"blue\"></circle><circle cx=\"450\" cy=\"299.7226567731226\" r=\"3\" fill=\"red\"></circle><polygon points=\"-200,-137.22195094664573 700,411.82954903127103 700,465.7208656262659 -200,-83.33063435165093\" style=\"fill: rgba(0, 0, 0, 0.3);\"></polygon><line x1=\"0\" y1=\"211.89054616889567\" x2=\"500\" y2=\"211.89054616889567\" style=\"stroke: rgba(0, 0, 0, 0.1); stroke-width: 900.493px;\"></line><line x1=\"-200\" y1=\"-110.27629264914833\" x2=\"700\" y2=\"438.7752073287685\" style=\"stroke: rgba(0, 0, 0, 0.7); stroke-width: 2px;\"></line></svg></div></div></div><style>body, html { margin-left: 0px; margin-right: 0px; }\n",
       "h1[data-v-2e966a4f] { font-family: Avenir, Helvetica, Arial, sans-serif; text-align: center; }\n",
       "#traces[data-v-2e966a4f] { display: flex; -moz-box-orient: horizontal; -moz-box-direction: normal; flex-flow: row wrap; }\n",
       "#app { font-family: Avenir, Helvetica, Arial, sans-serif; color: rgb(44, 62, 80); }</style>"
      ]
     },
     "metadata": {},
     "output_type": "display_data"
    }
   ],
   "source": [
    "viz = Viz(server, joinpath(@__DIR__, \"../tutorials/regression-viz/dist\"), [xs, ys])\n",
    "displayInNotebook(viz) do\n",
    "    (slope, intercept) = ransac(xs, ys, RANSACParams(10, 3, 1.))\n",
    "    slope_intercept_init = choicemap()\n",
    "    slope_intercept_init[:slope] = slope\n",
    "    slope_intercept_init[:intercept] = intercept\n",
    "    (tr, _) = generate(model, (xs,), merge(observations, slope_intercept_init))\n",
    "    putTrace!(viz, \"t\", serialize_trace(tr))\n",
    "    for iter = 1:5\n",
    "        (tr, _) = mh(tr, ransac_proposal, (xs, ys))\n",
    "    \n",
    "        # Spend a while refining the parameters, using Gaussian drift\n",
    "        # to tune the slope and intercept, and resimulation for the noise\n",
    "        # and outliers.\n",
    "        for j=1:20\n",
    "            (tr, _) = mh(tr, select(:prob_outlier))\n",
    "            (tr, _) = mh(tr, select(:noise))\n",
    "            (tr, _) = mh(tr, line_proposal, ())\n",
    "            # Reclassify outliers\n",
    "            for i=1:length(get_args(tr)[1])\n",
    "                (tr, _) = mh(tr, select(:data => i => :is_outlier))\n",
    "            end\n",
    "            putTrace!(viz, \"t\", serialize_trace(tr))\n",
    "            sleep(0.1)\n",
    "        end\n",
    "    end\n",
    "end"
   ]
  }
 ],
 "metadata": {
  "kernelspec": {
   "display_name": "Julia 1.0.3",
   "language": "julia",
   "name": "julia-1.0"
  },
  "language_info": {
   "file_extension": ".jl",
   "mimetype": "application/julia",
   "name": "julia",
   "version": "1.0.3"
  }
 },
 "nbformat": 4,
 "nbformat_minor": 2
}
