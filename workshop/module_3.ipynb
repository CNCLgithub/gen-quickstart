{
 "cells": [
  {
   "cell_type": "markdown",
   "metadata": {},
   "source": [
    "# Module 3: Inverse Planning"
   ]
  },
  {
   "cell_type": "code",
   "execution_count": null,
   "metadata": {},
   "outputs": [],
   "source": [
    "using Gen\n",
    "using Luxor"
   ]
  },
  {
   "cell_type": "code",
   "execution_count": null,
   "metadata": {},
   "outputs": [],
   "source": [
    "@gen function generative_model(n_observations)\n",
    "    \n",
    "    observations = Array{Bool}(undef, n_observations, 4)\n",
    "    \n",
    "    square = @trace(uniform_discrete(0, 2), :square)\n",
    "    circle = @trace(uniform_discrete(0, 2), :circle)\n",
    "#     adversity = @trace(uniform_discrete(-1, 2), :adversity)\n",
    "    adversity = -1\n",
    "\n",
    "    for i=1:n_observations\n",
    "        observations[i,1] = @trace(bernoulli(0.5), (:is_adversity, i))\n",
    "        observations[i,2] = @trace(bernoulli(0.5), (:is_obj_present, i))\n",
    "        observations[i,3] = @trace(bernoulli(0.5), (:is_square, i))\n",
    "        \n",
    "        reward = 0\n",
    "        reward += observations[i,1]*adversity\n",
    "        if observations[i,2]\n",
    "            if observations[i,3]\n",
    "                reward += square\n",
    "            else\n",
    "                reward += circle\n",
    "            end\n",
    "        end\n",
    "        \n",
    "        if reward > 0\n",
    "            observations[i,4] = @trace(bernoulli(1.0), (:moved, i))\n",
    "        else\n",
    "            observations[i,4] = @trace(bernoulli(0.0), (:moved, i))\n",
    "        end\n",
    "    end\n",
    "    \n",
    "    return square, circle, adversity, observations\n",
    "end;"
   ]
  },
  {
   "cell_type": "code",
   "execution_count": null,
   "metadata": {
    "scrolled": true
   },
   "outputs": [],
   "source": [
    "println(generative_model(5))"
   ]
  },
  {
   "cell_type": "code",
   "execution_count": null,
   "metadata": {},
   "outputs": [],
   "source": [
    "function draw_scene(id::Int, is_adversity::Bool, is_obj_present::Bool, is_square::Bool, moved::Bool)\n",
    "    Drawing(700, 350, \"scene_\"*string(id)*\".png\")\n",
    "    origin()\n",
    "    background(\"antiquewhite2\")\n",
    "    \n",
    "\n",
    "    sethue(\"dodgerblue4\")\n",
    "    setline(8)\n",
    "    fontsize(50)\n",
    "    box_dim = 200\n",
    "    box(0,0,box_dim,box_dim, :stroke)\n",
    "    box(-box_dim,0,box_dim,box_dim, :stroke)\n",
    "    box(box_dim,0,box_dim,box_dim, :stroke)\n",
    "    \n",
    "    robot = readpng(\"images/joyous_robot.png\")\n",
    "    placeimage(robot, -box_dim, 0; centered=true)\n",
    "\n",
    "    if is_adversity\n",
    "        sethue(\"palevioletred\")\n",
    "        p1 = Point(-50,-50)\n",
    "        p2 = Point(50,50)\n",
    "        line(p1, p2, :stroke)\n",
    "        p1 = Point(50,-50)\n",
    "        p2 = Point(-50,50)\n",
    "        line(p1, p2, :stroke)\n",
    "    end\n",
    "    \n",
    "    if is_obj_present\n",
    "        if is_square\n",
    "            sethue(\"firebrick\")\n",
    "            box(box_dim,0,100,100, :fill)\n",
    "        else\n",
    "            sethue(\"darkolivegreen3\")\n",
    "            p = Point(box_dim,0)\n",
    "            circle(p,50, :fill)\n",
    "        end\n",
    "    end\n",
    "    \n",
    "    if moved\n",
    "        setdash(\"longdashed\")\n",
    "        sethue(\"grey28\")\n",
    "        startpoint = Point(-box_dim, -120)\n",
    "        endpoint = Point(box_dim, -120)\n",
    "        c1 = Point(-100,-150)\n",
    "        c2 = Point(100,-150)\n",
    "        arrow(startpoint,  c1, c2, endpoint;\n",
    "                linewidth=8,\n",
    "                arrowheadlength = 30,\n",
    "                arrowheadangle = pi/8)\n",
    "    end\n",
    "    \n",
    "    finish()\n",
    "    preview()\n",
    "end;"
   ]
  },
  {
   "cell_type": "code",
   "execution_count": null,
   "metadata": {},
   "outputs": [],
   "source": [
    "function draw_blank()\n",
    "    Drawing(700, 350, \"scene.png\")\n",
    "    background(\"antiquewhite2\")\n",
    "    finish()\n",
    "    preview()\n",
    "end;"
   ]
  },
  {
   "cell_type": "code",
   "execution_count": null,
   "metadata": {},
   "outputs": [],
   "source": [
    "draw_scene(0, true, true, true, true)"
   ]
  },
  {
   "cell_type": "code",
   "execution_count": null,
   "metadata": {},
   "outputs": [],
   "source": [
    "function do_inference(model, observations, amount_of_compute)\n",
    "    n_observations = size(observations, 1)\n",
    "    obs = Gen.choicemap()\n",
    "    for i=1:n_observations\n",
    "        obs[(:is_adversity, i)] = observations[i,1]\n",
    "        obs[(:is_obj_present, i)] = observations[i,2]\n",
    "        obs[(:is_square, i)] = observations[i,3]\n",
    "        obs[(:moved, i)] = observations[i,4]\n",
    "    end\n",
    "    \n",
    "    (trace, _) = Gen.importance_resampling(model, (n_observations,), obs, amount_of_compute);\n",
    "    return trace\n",
    "end;"
   ]
  },
  {
   "cell_type": "code",
   "execution_count": null,
   "metadata": {
    "scrolled": true
   },
   "outputs": [],
   "source": [
    "observations = [true  true  true  true\n",
    "                true  false true  false\n",
    "                false true  false true\n",
    "                false true  true  true\n",
    "                true  true  false false]"
   ]
  },
  {
   "cell_type": "code",
   "execution_count": null,
   "metadata": {},
   "outputs": [],
   "source": [
    "for i=1:size(observations, 1)\n",
    "    draw_blank()\n",
    "    sleep(0.5)\n",
    "    draw_scene(i, observations[i,1], observations[i,2],\n",
    "               observations[i,3], observations[i,4])\n",
    "    sleep(3)\n",
    "end"
   ]
  },
  {
   "cell_type": "code",
   "execution_count": null,
   "metadata": {},
   "outputs": [],
   "source": [
    "traces = [do_inference(generative_model, observations, 1000) for _=1:100];\n",
    "\n",
    "square = 0.0\n",
    "circ = 0.0\n",
    "\n",
    "for trace in traces\n",
    "    square += trace[:square]\n",
    "    circ += trace[:circle]\n",
    "end\n",
    "\n",
    "square /= length(traces)\n",
    "circ /= length(traces)\n",
    "\n",
    "println(\"inferred values:\")\n",
    "println(\"square: \", square)\n",
    "println(\"circle: \", circ)"
   ]
  },
  {
   "cell_type": "code",
   "execution_count": null,
   "metadata": {},
   "outputs": [],
   "source": [
    "#########################"
   ]
  },
  {
   "cell_type": "markdown",
   "metadata": {},
   "source": [
    "### Exercise\n",
    "\n",
    "Constrain the start and destination points to two particular locations in the scene, and visualize the distribution on paths. Find a start point and destination point such that the distributions on paths is multimodal (i.e. there are two spatially separated paths that the agent may take). Describe the variability in the planned paths."
   ]
  },
  {
   "cell_type": "markdown",
   "metadata": {},
   "source": [
    "### Solution\n",
    "\n"
   ]
  },
  {
   "cell_type": "markdown",
   "metadata": {},
   "source": [
    "We now write a simple algorithm for inferring the destination of an agent given (i) the scene, (ii) the start location of the agent, and (iii) a sequence of measured locations of the agent for each tick.\n",
    "\n",
    "We will assume the agent starts in the lower left-hand corner."
   ]
  },
  {
   "cell_type": "code",
   "execution_count": null,
   "metadata": {},
   "outputs": [],
   "source": [
    "start = Point(0.1, 0.1);"
   ]
  },
  {
   "cell_type": "markdown",
   "metadata": {},
   "source": [
    "We will infer the destination of the agent for the given sequence of observed locations:"
   ]
  },
  {
   "cell_type": "code",
   "execution_count": null,
   "metadata": {},
   "outputs": [],
   "source": [
    "measurements = [\n",
    "    Point(0.0980245, 0.104775),\n",
    "    Point(0.113734, 0.150773),\n",
    "    Point(0.100412, 0.195499),\n",
    "    Point(0.114794, 0.237386),\n",
    "    Point(0.0957668, 0.277711),\n",
    "    Point(0.140181, 0.31304),\n",
    "    Point(0.124384, 0.356242),\n",
    "    Point(0.122272, 0.414463),\n",
    "    Point(0.124597, 0.462056),\n",
    "    Point(0.126227, 0.498338)];"
   ]
  },
  {
   "cell_type": "markdown",
   "metadata": {},
   "source": [
    "We visualize this data set on top of the scene:"
   ]
  },
  {
   "cell_type": "code",
   "execution_count": null,
   "metadata": {
    "scrolled": false
   },
   "outputs": [],
   "source": [
    "info = Dict(\"start\" => start, \"scene\" => scene, \"measurements\" => measurements)\n",
    "viz = Viz(viz_server, joinpath(@__DIR__, \"../inverse-planning/overlay-viz/dist\"), info)\n",
    "displayInNotebook(viz)"
   ]
  },
  {
   "cell_type": "markdown",
   "metadata": {},
   "source": [
    "Next, we write a simple inference program for this task:"
   ]
  },
  {
   "cell_type": "code",
   "execution_count": null,
   "metadata": {},
   "outputs": [],
   "source": [
    "function do_inference_agent_model(scene::Scene, dt::Float64, num_ticks::Int, planner_params::PlannerParams, start::Point,\n",
    "                                  measurements::Vector{Point}, amount_of_computation::Int)\n",
    "    \n",
    "    # Create an \"Assignment\" that maps model addresses (:y, i)\n",
    "    # to observed values ys[i]. We leave :slope and :intercept\n",
    "    # unconstrained, because we want them to be inferred.\n",
    "    observations = Gen.choicemap()\n",
    "    observations[:start_x] = start.x\n",
    "    observations[:start_y] = start.y\n",
    "    for (i, m) in enumerate(measurements)\n",
    "        observations[:meas => (i, :x)] = m.x\n",
    "        observations[:meas => (i, :y)] = m.y\n",
    "    end\n",
    "    \n",
    "    # Call importance_resampling to obtain a likely trace consistent\n",
    "    # with our observations.\n",
    "    (trace, _) = Gen.importance_resampling(agent_model, (scene, dt, num_ticks, planner_params), observations, amount_of_computation)\n",
    "    \n",
    "    return trace\n",
    "end;"
   ]
  },
  {
   "cell_type": "markdown",
   "metadata": {},
   "source": [
    "Below, we run this algorithm 1000 times, to generate 1000 approximate samples from the posterior distribution on the destination. The inferred destinations should appear as red dots on the map."
   ]
  },
  {
   "cell_type": "code",
   "execution_count": null,
   "metadata": {},
   "outputs": [],
   "source": [
    "info = Dict(\"measurements\" => measurements, \"scene\" => scene, \"start\" => start)\n",
    "viz = Viz(viz_server, joinpath(@__DIR__, \"../inverse-planning/overlay-viz/dist\"), info)\n",
    "openInNotebook(viz)\n",
    "sleep(5)\n",
    "for i=1:1000\n",
    "    trace = do_inference_agent_model(scene, dt, num_ticks, planner_params, start, measurements, 50)\n",
    "    putTrace!(viz, i, trace_to_dict(trace))\n",
    "end\n",
    "displayInNotebook(viz)"
   ]
  },
  {
   "cell_type": "markdown",
   "metadata": {},
   "source": [
    "### Exercise\n",
    "The first argument to `PlannerParams` is the number of iterations of the RRT algorithm to use. The third argument to `PlannerParams` is the number of iterations of path refinement. These parameters affect the distribution on paths of the agent. Visualize traces of the `agent_model` for with a couple different settings of these two parameters to the path planning algorithm for fixed starting point and destination point. Try setting them to smaller values. Discuss."
   ]
  },
  {
   "cell_type": "markdown",
   "metadata": {},
   "source": [
    "### Solution\n",
    "\n",
    "We have provided starter code."
   ]
  },
  {
   "cell_type": "code",
   "execution_count": null,
   "metadata": {},
   "outputs": [],
   "source": [
    "constraints = Gen.choicemap()\n",
    "constraints[:start_x] = 0.1\n",
    "constraints[:start_y] = 0.1;"
   ]
  },
  {
   "cell_type": "markdown",
   "metadata": {},
   "source": [
    "Modify the `PlannerParams` in the two cells below."
   ]
  },
  {
   "cell_type": "code",
   "execution_count": null,
   "metadata": {},
   "outputs": [],
   "source": [
    "planner_params = PlannerParams(300, 3.0, 2000, 1.) # < change this line>\n",
    "\n",
    "viz = Viz(viz_server, joinpath(@__DIR__, \"../inverse-planning/grid-viz/dist\"), [])\n",
    "for i=1:12\n",
    "    (trace, _) = Gen.generate(agent_model, (scene, dt, num_ticks, planner_params), constraints)\n",
    "    putTrace!(viz, i, trace_to_dict(trace))\n",
    "end\n",
    "displayInNotebook(viz)"
   ]
  },
  {
   "cell_type": "code",
   "execution_count": null,
   "metadata": {},
   "outputs": [],
   "source": [
    "planner_params = PlannerParams(300, 3.0, 2000, 1.) # < change this line>\n",
    "\n",
    "viz = Viz(viz_server, joinpath(@__DIR__, \"../inverse-planning/grid-viz/dist\"), [])\n",
    "for i=1:12\n",
    "    (trace, _) = Gen.generate(agent_model, (scene, dt, num_ticks, planner_params), constraints)\n",
    "    putTrace!(viz, i, trace_to_dict(trace))\n",
    "end\n",
    "displayInNotebook(viz)"
   ]
  }
 ],
 "metadata": {
  "kernelspec": {
   "display_name": "Julia 1.0.3",
   "language": "julia",
   "name": "julia-1.0"
  },
  "language_info": {
   "file_extension": ".jl",
   "mimetype": "application/julia",
   "name": "julia",
   "version": "1.0.3"
  }
 },
 "nbformat": 4,
 "nbformat_minor": 2
}
